{
 "cells": [
  {
   "cell_type": "code",
   "execution_count": 179,
   "metadata": {},
   "outputs": [],
   "source": [
    "from datasets import load_dataset\n",
    "from IPython.display import display, Markdown\n",
    "import re\n",
    "import random\n",
    "random.seed(420)\n",
    "\n",
    "import ipywidgets as widgets\n",
    "from IPython.display import Markdown, display, clear_output"
   ]
  },
  {
   "cell_type": "code",
   "execution_count": 180,
   "metadata": {},
   "outputs": [],
   "source": [
    "def remove_boxed(text):\n",
    "    pattern = r'\\\\boxed{(.*)}'\n",
    "    return re.sub(pattern, r'\\1', text)\n",
    "\n",
    "def fix_align(text):\n",
    "    pattern = r'\\\\begin{align\\*}(.*?)\\\\end{align\\*}'\n",
    "    text = re.sub(\n",
    "        pattern, \n",
    "        '\\n$$\\n\\\\\\\\begin{align*}\\t\\\\1\\\\\\\\end{align*}\\n$$\\n', \n",
    "        text, flags=re.DOTALL\n",
    "    )\n",
    "    \n",
    "    return text\n",
    "\n",
    "def convert_latex(text):\n",
    "    # Convert display math mode\n",
    "    text = re.sub(r'\\\\\\[\\s*(.*?)\\s*\\\\\\]', '\\n$$\\n\\t\\\\1\\n$$\\n', text, flags=re.DOTALL)\n",
    "\n",
    "    # Convert inline math mode\n",
    "    text = re.sub(r'\\\\\\((.*?)\\\\\\)', r'$\\1$', text, flags=re.DOTALL)\n",
    "\n",
    "    text = re.sub(r'\\$\\$\\$\\$', r'$$\\n$$', text)\n",
    "\n",
    "    return text\n",
    "\n",
    "fix = lambda x: convert_latex(fix_align(remove_boxed(x)))\n",
    "\n",
    "def blacklist(x):\n",
    "    if \"[asy]\" in x[\"solution\"]:\n",
    "        return True\n",
    "    elif \"eqnarray\" in x[\"solution\"]:\n",
    "        return True\n",
    "    elif \"tabular\" in x[\"solution\"]:\n",
    "        return True\n",
    "    else:\n",
    "        return False"
   ]
  },
  {
   "cell_type": "code",
   "execution_count": 181,
   "metadata": {},
   "outputs": [
    {
     "name": "stderr",
     "output_type": "stream",
     "text": [
      "Found cached dataset competition_math (/home/zhangir/.cache/huggingface/datasets/hendrycks___competition_math/default/1.0.0/52c6a268ae72ef772498d27551a3f682dac50cd8befddd0326d758cb6908b5f0)\n"
     ]
    },
    {
     "data": {
      "application/vnd.jupyter.widget-view+json": {
       "model_id": "ec2af5d770c541ab86dd2cb41727311a",
       "version_major": 2,
       "version_minor": 0
      },
      "text/plain": [
       "  0%|          | 0/2 [00:00<?, ?it/s]"
      ]
     },
     "metadata": {},
     "output_type": "display_data"
    }
   ],
   "source": [
    "math = load_dataset(\"hendrycks/competition_math\")"
   ]
  },
  {
   "cell_type": "code",
   "execution_count": 182,
   "metadata": {},
   "outputs": [
    {
     "name": "stdout",
     "output_type": "stream",
     "text": [
      "dict_keys(['problem', 'level', 'type', 'solution'])\n"
     ]
    }
   ],
   "source": [
    "print(math[\"train\"][0].keys())"
   ]
  },
  {
   "cell_type": "code",
   "execution_count": 183,
   "metadata": {},
   "outputs": [],
   "source": [
    "data = [{\n",
    "    \"input\": x[\"problem\"], \n",
    "    \"output\": fix(x[\"solution\"]),\n",
    "    \"meta\": {\"level\": x[\"level\"], \"type\": x[\"type\"], \"id\": 10**8+i}\n",
    "    }\n",
    "    for i, x in enumerate(math[\"train\"]) if not blacklist(x)\n",
    "]"
   ]
  },
  {
   "cell_type": "code",
   "execution_count": 184,
   "metadata": {},
   "outputs": [
    {
     "name": "stdout",
     "output_type": "stream",
     "text": [
      "Counter({'Level 5': 1888, 'Level 4': 1517, 'Level 3': 1463, 'Level 2': 1276, 'Level 1': 544, 'Level ?': 1})\n"
     ]
    }
   ],
   "source": [
    "from collections import Counter\n",
    "\n",
    "levels = [x[\"meta\"][\"level\"] for x in data]\n",
    "\n",
    "levels_count = Counter(levels)\n",
    "\n",
    "print(levels_count)"
   ]
  },
  {
   "cell_type": "code",
   "execution_count": 185,
   "metadata": {},
   "outputs": [],
   "source": [
    "def str_of_row(x):\n",
    "    return f\"---INPUT: {x['input']}\\n\\n---OUTPUT: {x['output']}\""
   ]
  },
  {
   "cell_type": "code",
   "execution_count": 186,
   "metadata": {},
   "outputs": [],
   "source": [
    "def display_item(data, index=0):\n",
    "    clear_output(wait=True)\n",
    "    item = data[index]\n",
    "    text_display = Markdown(str_of_row(item))\n",
    "\n",
    "    # Creating the buttons\n",
    "    next_button = widgets.Button(description=\"Next\")\n",
    "    prev_button = widgets.Button(description=\"Previous\")\n",
    "\n",
    "    # Navigate through the dataset\n",
    "    def navigate(step):\n",
    "        nonlocal index\n",
    "        index = min(max(0, index + step), len(data) - 1)\n",
    "        display_item(data, index)\n",
    "\n",
    "    next_button.on_click(lambda b: navigate(1))\n",
    "    prev_button.on_click(lambda b: navigate(-1))\n",
    "\n",
    "    # Displaying the components\n",
    "    button_box = widgets.HBox([prev_button, next_button])\n",
    "    display(button_box)\n",
    "    display(text_display)\n",
    "    display(Markdown(f\"ID: {item['meta']['id']}\"))\n",
    "    display(Markdown(f\"{index}/{len(data)}\"))\n",
    "    display(Markdown(f\"Category: {item['meta']['type']}\"))\n",
    "    if \"raw\" in item:\n",
    "        display(item[\"raw\"])"
   ]
  },
  {
   "cell_type": "code",
   "execution_count": 187,
   "metadata": {},
   "outputs": [
    {
     "data": {
      "application/vnd.jupyter.widget-view+json": {
       "model_id": "891e07d3b4d7406884acdd6227eeac3a",
       "version_major": 2,
       "version_minor": 0
      },
      "text/plain": [
       "HBox(children=(Button(description='Previous', style=ButtonStyle()), Button(description='Next', style=ButtonSty…"
      ]
     },
     "metadata": {},
     "output_type": "display_data"
    },
    {
     "data": {
      "text/markdown": [
       "---INPUT: Let \\[f(x) = \\left\\{\n",
       "\\begin{array}{cl} ax+3, &\\text{ if }x>2, \\\\\n",
       "x-5 &\\text{ if } -2 \\le x \\le 2, \\\\\n",
       "2x-b &\\text{ if } x <-2.\n",
       "\\end{array}\n",
       "\\right.\\]Find $a+b$ if the piecewise function is continuous (which means that its graph can be drawn without lifting your pencil from the paper).\n",
       "\n",
       "---OUTPUT: For the piecewise function to be continuous, the cases must \"meet\" at $2$ and $-2$. For example, $ax+3$ and $x-5$ must be equal when $x=2$. This implies $a(2)+3=2-5$, which we solve to get $2a=-6 \\Rightarrow a=-3$. Similarly, $x-5$ and $2x-b$ must be equal when $x=-2$. Substituting, we get $-2-5=2(-2)-b$, which implies $b=3$. So $a+b=-3+3=0$."
      ],
      "text/plain": [
       "<IPython.core.display.Markdown object>"
      ]
     },
     "metadata": {},
     "output_type": "display_data"
    },
    {
     "data": {
      "text/markdown": [
       "ID: 100000000"
      ],
      "text/plain": [
       "<IPython.core.display.Markdown object>"
      ]
     },
     "metadata": {},
     "output_type": "display_data"
    },
    {
     "data": {
      "text/markdown": [
       "0/6689"
      ],
      "text/plain": [
       "<IPython.core.display.Markdown object>"
      ]
     },
     "metadata": {},
     "output_type": "display_data"
    },
    {
     "data": {
      "text/markdown": [
       "Category: Algebra"
      ],
      "text/plain": [
       "<IPython.core.display.Markdown object>"
      ]
     },
     "metadata": {},
     "output_type": "display_data"
    }
   ],
   "source": [
    "display_item(data, index=0)"
   ]
  },
  {
   "cell_type": "code",
   "execution_count": 188,
   "metadata": {},
   "outputs": [],
   "source": [
    "level_counts = {'Level 5': 300, 'Level 4': 165, 'Level 3': 150}\n",
    "\n",
    "data_by_level = dict()\n",
    "for k,v in level_counts.items():\n",
    "    level_data = [x for x in data if x['meta']['level']==k]\n",
    "    data_by_level[k] = random.sample(level_data, v)"
   ]
  },
  {
   "cell_type": "code",
   "execution_count": null,
   "metadata": {},
   "outputs": [
    {
     "data": {
      "application/vnd.jupyter.widget-view+json": {
       "model_id": "b364ad86e479461487ec58dcdfb83f55",
       "version_major": 2,
       "version_minor": 0
      },
      "text/plain": [
       "HBox(children=(Button(description='Previous', style=ButtonStyle()), Button(description='Next', style=ButtonSty…"
      ]
     },
     "metadata": {},
     "output_type": "display_data"
    },
    {
     "data": {
      "text/markdown": [
       "---INPUT: Compute the sum of the geometric series $-1 + 2 - 4 + 8 - \\cdots + 512$.\n",
       "\n",
       "---OUTPUT: The first term is $-1$, the common ratio is $-2$, and there are 10 terms, so the sum equals \n",
       "$$\n",
       "\t\\frac{(-1)((-2)^{10}-1)}{-2-1} = \\frac{-1023}{-3} = 341.\n",
       "$$\n"
      ],
      "text/plain": [
       "<IPython.core.display.Markdown object>"
      ]
     },
     "metadata": {},
     "output_type": "display_data"
    },
    {
     "data": {
      "text/markdown": [
       "ID: 100001454"
      ],
      "text/plain": [
       "<IPython.core.display.Markdown object>"
      ]
     },
     "metadata": {},
     "output_type": "display_data"
    },
    {
     "data": {
      "text/markdown": [
       "164/165"
      ],
      "text/plain": [
       "<IPython.core.display.Markdown object>"
      ]
     },
     "metadata": {},
     "output_type": "display_data"
    },
    {
     "data": {
      "text/markdown": [
       "Category: Algebra"
      ],
      "text/plain": [
       "<IPython.core.display.Markdown object>"
      ]
     },
     "metadata": {},
     "output_type": "display_data"
    }
   ],
   "source": [
    "display_item(data_by_level['Level 4'], index=159)"
   ]
  },
  {
   "cell_type": "code",
   "execution_count": 192,
   "metadata": {},
   "outputs": [
    {
     "name": "stdout",
     "output_type": "stream",
     "text": [
      "Subtract 1 from both sides to obtain $8x \\equiv 4 \\pmod{12}$. Add 12 to the right-hand side to get $8x \\equiv 16 \\pmod{12}$. Now divide both sides by 8, remembering to divide 12 by the greatest common factor of 12 and 8, thus obtaining $x \\equiv 2\\pmod{3}$. This gives $a+m = 2 + 3 = 5}$. Here we have used the fact that $ad \\equiv bd\\pmod{m}$ if and only if $a\\equiv b \\pmod{m/\\text{gcd}(m,d)$, for integers $m\\geq 2$ and $a$, $b$, and $d$.\n"
     ]
    }
   ],
   "source": [
    "print(data_by_level['Level 5'][239]['output'])"
   ]
  }
 ],
 "metadata": {
  "kernelspec": {
   "display_name": "ml-projects",
   "language": "python",
   "name": "python3"
  },
  "language_info": {
   "codemirror_mode": {
    "name": "ipython",
    "version": 3
   },
   "file_extension": ".py",
   "mimetype": "text/x-python",
   "name": "python",
   "nbconvert_exporter": "python",
   "pygments_lexer": "ipython3",
   "version": "3.10.9"
  }
 },
 "nbformat": 4,
 "nbformat_minor": 2
}
