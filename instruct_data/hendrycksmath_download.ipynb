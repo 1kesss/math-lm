{
 "cells": [
  {
   "cell_type": "code",
   "execution_count": 115,
   "metadata": {},
   "outputs": [],
   "source": [
    "from datasets import load_dataset\n",
    "from IPython.display import display, Markdown\n",
    "import re\n",
    "\n",
    "import ipywidgets as widgets\n",
    "from IPython.display import Markdown, display, clear_output"
   ]
  },
  {
   "cell_type": "code",
   "execution_count": 116,
   "metadata": {},
   "outputs": [],
   "source": [
    "def remove_boxed(text):\n",
    "    pattern = r'\\\\boxed{(.*)}'\n",
    "    return re.sub(pattern, r'\\1', text)\n",
    "\n",
    "def fix_align(text):\n",
    "    pattern = r'\\\\begin{align\\*}(.*?)\\\\end{align\\*}'\n",
    "    return re.sub(\n",
    "        pattern, \n",
    "        r'$$\\\\begin{align*}\\1\\\\end{align*}$$', \n",
    "        text, flags=re.DOTALL\n",
    "    )\n",
    "\n",
    "def convert_latex(text):\n",
    "    # Convert display math mode\n",
    "    text = re.sub(r'\\\\\\[\\s*(.*?)\\s*\\\\\\]', r'$$\\1$$', text, flags=re.DOTALL)\n",
    "\n",
    "    # Convert inline math mode\n",
    "    text = re.sub(r'\\\\\\((.*?)\\\\\\)', r'$\\1$', text, flags=re.DOTALL)\n",
    "\n",
    "    return text\n",
    "\n",
    "fix = lambda x: convert_latex(fix_align(remove_boxed(x)))\n",
    "\n",
    "def diagram_in_output(x):\n",
    "    return \"[asy]\" in x[\"solution\"]"
   ]
  },
  {
   "cell_type": "code",
   "execution_count": 117,
   "metadata": {},
   "outputs": [
    {
     "name": "stderr",
     "output_type": "stream",
     "text": [
      "Found cached dataset competition_math (/home/zhangir/.cache/huggingface/datasets/hendrycks___competition_math/default/1.0.0/52c6a268ae72ef772498d27551a3f682dac50cd8befddd0326d758cb6908b5f0)\n"
     ]
    },
    {
     "data": {
      "application/vnd.jupyter.widget-view+json": {
       "model_id": "6b88809db8bf42d7a2cb7e319870ef48",
       "version_major": 2,
       "version_minor": 0
      },
      "text/plain": [
       "  0%|          | 0/2 [00:00<?, ?it/s]"
      ]
     },
     "metadata": {},
     "output_type": "display_data"
    }
   ],
   "source": [
    "math = load_dataset(\"hendrycks/competition_math\")"
   ]
  },
  {
   "cell_type": "code",
   "execution_count": 118,
   "metadata": {},
   "outputs": [
    {
     "name": "stdout",
     "output_type": "stream",
     "text": [
      "dict_keys(['problem', 'level', 'type', 'solution'])\n"
     ]
    }
   ],
   "source": [
    "print(math[\"train\"][0].keys())"
   ]
  },
  {
   "cell_type": "code",
   "execution_count": 119,
   "metadata": {},
   "outputs": [],
   "source": [
    "data = [{\n",
    "    \"input\": x[\"problem\"], \n",
    "    \"output\": fix(x[\"solution\"]),\n",
    "    \"meta\": {\"level\": x[\"level\"], \"type\": x[\"type\"], \"id\": 10**8+i}\n",
    "    }\n",
    "    for i, x in enumerate(math[\"train\"]) if not diagram_in_output(x)\n",
    "]"
   ]
  },
  {
   "cell_type": "code",
   "execution_count": 120,
   "metadata": {},
   "outputs": [],
   "source": [
    "def str_of_row(x):\n",
    "    return f\"---INPUT: {x['input']}\\n\\n---OUTPUT: {x['output']}\""
   ]
  },
  {
   "cell_type": "code",
   "execution_count": 121,
   "metadata": {},
   "outputs": [],
   "source": [
    "def display_item(data, index=0):\n",
    "    clear_output(wait=True)\n",
    "    item = data[index]\n",
    "    text_display = Markdown(str_of_row(item))\n",
    "\n",
    "    # Creating the buttons\n",
    "    next_button = widgets.Button(description=\"Next\")\n",
    "    prev_button = widgets.Button(description=\"Previous\")\n",
    "\n",
    "    # Navigate through the dataset\n",
    "    def navigate(step):\n",
    "        nonlocal index\n",
    "        index = min(max(0, index + step), len(data) - 1)\n",
    "        display_item(data, index)\n",
    "\n",
    "    next_button.on_click(lambda b: navigate(1))\n",
    "    prev_button.on_click(lambda b: navigate(-1))\n",
    "\n",
    "    # Displaying the components\n",
    "    button_box = widgets.HBox([prev_button, next_button])\n",
    "    display(button_box)\n",
    "    display(text_display)\n",
    "    display(Markdown(f\"ID: {item['meta']['id']}\"))\n",
    "    display(Markdown(f\"{index}/{len(data)}\"))\n",
    "    display(Markdown(f\"Category: {item['meta']['type']}\"))\n",
    "    if \"raw\" in item:\n",
    "        display(item[\"raw\"])"
   ]
  },
  {
   "cell_type": "code",
   "execution_count": 124,
   "metadata": {},
   "outputs": [
    {
     "name": "stdout",
     "output_type": "stream",
     "text": [
      "Since $f$ is the function that adds two, $f^{-1}$ is the function that subtracts two. Since $g$ is the function that divides by $3,$ $g^{-1}$ is the function that triples. This lets us compute from inside out: $$\\begin{array}{rl|l}\n",
      "&f(g^{-1}(f^{-1}(f^{-1}(g(f(19))))))\\\\\n",
      "&\\quad=f(g^{-1}(f^{-1}(f^{-1}(g(21)))))&\\text{added 2}\\\\\n",
      "&\\quad=f(g^{-1}(f^{-1}(f^{-1}(7))))&\\text{divided by 3}\\\\\n",
      "&\\quad=f(g^{-1}(f^{-1}(5)))&\\text{subtracted 2}\\\\\n",
      "&\\quad=f(g^{-1}(3))&\\text{subtracted 2}\\\\\n",
      "&\\quad=f(9)&\\text{tripled}\\\\\n",
      "&\\quad=11}&\\text{added 2\\\\\n",
      "\\end{array}$$\n"
     ]
    }
   ],
   "source": [
    "print(data[115][\"output\"])"
   ]
  },
  {
   "cell_type": "code",
   "execution_count": null,
   "metadata": {},
   "outputs": [
    {
     "data": {
      "application/vnd.jupyter.widget-view+json": {
       "model_id": "f036d3ded7134d0ea7836878b7adb6a1",
       "version_major": 2,
       "version_minor": 0
      },
      "text/plain": [
       "HBox(children=(Button(description='Previous', style=ButtonStyle()), Button(description='Next', style=ButtonSty…"
      ]
     },
     "metadata": {},
     "output_type": "display_data"
    },
    {
     "data": {
      "text/markdown": [
       "---INPUT: Given that the graphs of $y=h(x)$ and $y=j(x)$ intersect at $(2,2),$ $(4,6),$ $(6,12),$ and $(8,12),$ there is one point where the graphs of $y=h(2x)$ and $y=2j(x)$ must intersect. What is the sum of the coordinates of that point?\n",
       "\n",
       "---OUTPUT: The given information tells us that $$\\begin{array}{c@{\\qquad}c}\n",
       "h(2)=j(2)=2, & h(4)=j(4)=6, \\\\\n",
       "h(6)=j(6)=12, & h(8)=j(8)=12.\n",
       "\\end{array}$$If the graphs of $y=h(2x)$ and $y=2j(x)$ intersect at $(a,b),$ then $$h(2a)=2j(a)= b.$$Checking the possibilities in the table above, we see that $h(8)=2j(4)=12.$ Thus, the graphs of $y=h(2x)$ and $y=2j(x)$ intersect at $(4,12),$ the sum of whose coordinates is $16.$"
      ],
      "text/plain": [
       "<IPython.core.display.Markdown object>"
      ]
     },
     "metadata": {},
     "output_type": "display_data"
    },
    {
     "data": {
      "text/markdown": [
       "ID: 100000124"
      ],
      "text/plain": [
       "<IPython.core.display.Markdown object>"
      ]
     },
     "metadata": {},
     "output_type": "display_data"
    },
    {
     "data": {
      "text/markdown": [
       "122/6719"
      ],
      "text/plain": [
       "<IPython.core.display.Markdown object>"
      ]
     },
     "metadata": {},
     "output_type": "display_data"
    },
    {
     "data": {
      "text/markdown": [
       "Category: Algebra"
      ],
      "text/plain": [
       "<IPython.core.display.Markdown object>"
      ]
     },
     "metadata": {},
     "output_type": "display_data"
    }
   ],
   "source": [
    "display_item(data, index=102)"
   ]
  }
 ],
 "metadata": {
  "kernelspec": {
   "display_name": "ml-projects",
   "language": "python",
   "name": "python3"
  },
  "language_info": {
   "codemirror_mode": {
    "name": "ipython",
    "version": 3
   },
   "file_extension": ".py",
   "mimetype": "text/x-python",
   "name": "python",
   "nbconvert_exporter": "python",
   "pygments_lexer": "ipython3",
   "version": "3.10.9"
  }
 },
 "nbformat": 4,
 "nbformat_minor": 2
}
