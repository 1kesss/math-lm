{
 "cells": [
  {
   "cell_type": "code",
   "execution_count": null,
   "metadata": {},
   "outputs": [],
   "source": [
    "from datasets import load_dataset\n",
    "from IPython.display import display, Markdown\n",
    "import re\n",
    "\n",
    "import ipywidgets as widgets\n",
    "from IPython.display import Markdown, display, clear_output"
   ]
  },
  {
   "cell_type": "code",
   "execution_count": null,
   "metadata": {},
   "outputs": [],
   "source": [
    "def remove_boxed(text):\n",
    "    pattern = r'\\\\boxed{(.*)}'\n",
    "    return re.sub(pattern, r'\\1', text)\n",
    "\n",
    "def fix_align(text):\n",
    "    pattern = r'\\\\begin{align\\*}(.*?)\\\\end{align\\*}'\n",
    "    return re.sub(\n",
    "        pattern, \n",
    "        r'$$\\\\begin{align*}\\1\\\\end{align*}$$', \n",
    "        text, flags=re.DOTALL\n",
    "    )\n",
    "\n",
    "def convert_latex(text):\n",
    "    # Convert display math mode\n",
    "    text = re.sub(r'\\\\\\[\\s*(.*?)\\s*\\\\\\]', r'$$\\1$$', text, flags=re.DOTALL)\n",
    "\n",
    "    # Convert inline math mode\n",
    "    text = re.sub(r'\\\\\\((.*?)\\\\\\)', r'$\\1$', text, flags=re.DOTALL)\n",
    "\n",
    "    return text\n",
    "\n",
    "fix = lambda x: convert_latex(fix_align(remove_boxed(x)))\n",
    "\n",
    "def diagram_in_output(x):\n",
    "    return \"[asy]\" in x[\"solution\"]"
   ]
  },
  {
   "cell_type": "code",
   "execution_count": null,
   "metadata": {},
   "outputs": [],
   "source": [
    "math = load_dataset(\"hendrycks/competition_math\")"
   ]
  },
  {
   "cell_type": "code",
   "execution_count": null,
   "metadata": {},
   "outputs": [],
   "source": [
    "print(math[\"train\"][0].keys())"
   ]
  },
  {
   "cell_type": "code",
   "execution_count": null,
   "metadata": {},
   "outputs": [],
   "source": [
    "data = [{\n",
    "    \"input\": x[\"problem\"], \n",
    "    \"output\": fix(x[\"solution\"]),\n",
    "    \"meta\": {\"level\": x[\"level\"], \"type\": x[\"type\"], \"id\": 10**8+i}\n",
    "    }\n",
    "    for i, x in enumerate(math[\"train\"]) if not diagram_in_output(x)\n",
    "]"
   ]
  },
  {
   "cell_type": "code",
   "execution_count": null,
   "metadata": {},
   "outputs": [],
   "source": [
    "def str_of_row(x):\n",
    "    return f\"---INPUT: {x['input']}\\n\\n---OUTPUT: {x['output']}\""
   ]
  },
  {
   "cell_type": "code",
   "execution_count": null,
   "metadata": {},
   "outputs": [],
   "source": [
    "def display_item(data, index=0):\n",
    "    clear_output(wait=True)\n",
    "    item = data[index]\n",
    "    text_display = Markdown(str_of_row(item))\n",
    "\n",
    "    # Creating the buttons\n",
    "    next_button = widgets.Button(description=\"Next\")\n",
    "    prev_button = widgets.Button(description=\"Previous\")\n",
    "\n",
    "    # Navigate through the dataset\n",
    "    def navigate(step):\n",
    "        nonlocal index\n",
    "        index = min(max(0, index + step), len(data) - 1)\n",
    "        display_item(data, index)\n",
    "\n",
    "    next_button.on_click(lambda b: navigate(1))\n",
    "    prev_button.on_click(lambda b: navigate(-1))\n",
    "\n",
    "    # Displaying the components\n",
    "    button_box = widgets.HBox([prev_button, next_button])\n",
    "    display(button_box)\n",
    "    display(text_display)\n",
    "    display(Markdown(f\"ID: {item['meta']['id']}\"))\n",
    "    display(Markdown(f\"{index}/{len(data)}\"))\n",
    "    display(Markdown(f\"Category: {item['meta']['type']}\"))\n",
    "    if \"raw\" in item:\n",
    "        display(item[\"raw\"])"
   ]
  },
  {
   "cell_type": "code",
   "execution_count": null,
   "metadata": {},
   "outputs": [],
   "source": [
    "display_item(data, index=0)"
   ]
  }
 ],
 "metadata": {
  "kernelspec": {
   "display_name": "ml-projects",
   "language": "python",
   "name": "python3"
  },
  "language_info": {
   "codemirror_mode": {
    "name": "ipython",
    "version": 3
   },
   "file_extension": ".py",
   "mimetype": "text/x-python",
   "name": "python",
   "nbconvert_exporter": "python",
   "pygments_lexer": "ipython3",
   "version": "3.10.9"
  }
 },
 "nbformat": 4,
 "nbformat_minor": 2
}
