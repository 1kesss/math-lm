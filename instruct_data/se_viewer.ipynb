{
 "cells": [
  {
   "cell_type": "code",
   "execution_count": null,
   "metadata": {},
   "outputs": [],
   "source": [
    "import yaml\n",
    "import json\n",
    "import os\n",
    "import ipywidgets as widgets\n",
    "from IPython.display import display, Markdown, HTML, clear_output\n"
   ]
  },
  {
   "cell_type": "code",
   "execution_count": null,
   "metadata": {},
   "outputs": [],
   "source": [
    "# Run this if you've previously run the cell below\n",
    "!rm scratch.jsonl"
   ]
  },
  {
   "cell_type": "code",
   "execution_count": null,
   "metadata": {},
   "outputs": [],
   "source": [
    "\n",
    "styles = {\n",
    "    'Accepted': 'background-color: rgba(0, 255, 0, 0.3);',  # Translucent green\n",
    "    'Rejected': 'background-color: rgba(255, 0, 0, 0.3);',  # Translucent red\n",
    "    'No judgement': 'background-color: rgba(0, 0, 0, 0.3);'\n",
    "}\n",
    "\n",
    "def display_item(data, judgement_file, index=0):\n",
    "    if os.path.isfile(judgement_file):\n",
    "        with open(judgement_file) as fle:\n",
    "            judgement_map = yaml.safe_load(fle)\n",
    "    else:\n",
    "        judgement_map = dict()\n",
    "\n",
    "    clear_output(wait=True)\n",
    "    item = data[index]\n",
    "    text_display = Markdown(item['text'])\n",
    "\n",
    "    accept_button = widgets.Button(description=\"Accept\")\n",
    "    reject_button = widgets.Button(description=\"Reject\")\n",
    "    next_button = widgets.Button(description=\"Next\")\n",
    "    prev_button = widgets.Button(description=\"Previous\")\n",
    "\n",
    "    def display_verdict(verdict):\n",
    "        verdict_display = HTML(f\"<div style='{styles[verdict]}'>{verdict}</div>\")\n",
    "        display(verdict_display)\n",
    "\n",
    "    def on_accept(b):\n",
    "        judgement_map[item[\"id\"]] = True\n",
    "        with open(judgement_file, 'w') as fle:\n",
    "            yaml.dump(judgement_map, fle)\n",
    "\n",
    "        navigate(1)\n",
    "\n",
    "    def on_reject(b):\n",
    "        judgement_map[item[\"id\"]] = False\n",
    "        with open(judgement_file, 'w') as fle:\n",
    "            yaml.dump(judgement_map, fle)\n",
    "        navigate(1)\n",
    "\n",
    "    def navigate(step):\n",
    "        nonlocal index\n",
    "        index = min(max(0, index + step), len(data) - 1)\n",
    "        display_item(data, judgement_file, index)\n",
    "\n",
    "    def display_buttons():\n",
    "        button_box = widgets.HBox([accept_button, reject_button, prev_button, next_button])\n",
    "        display(button_box)\n",
    "    \n",
    "    def display_location(index):\n",
    "        display(Markdown(f\"Index: {index}/{len(data)}\"))\n",
    "\n",
    "        display(Markdown(f\"Post ID: {item['id']}\"))\n",
    "    \n",
    "        num_judged = len(judgement_map.keys())\n",
    "        num_accepted = sum(judgement_map.values())\n",
    "        display(Markdown(f\"Accepted: {num_accepted}, Judged: {num_judged}\"))\n",
    "\n",
    "    accept_button.on_click(on_accept)\n",
    "    reject_button.on_click(on_reject)\n",
    "    next_button.on_click(lambda b: navigate(1))\n",
    "    prev_button.on_click(lambda b: navigate(-1))\n",
    "\n",
    "    display_buttons()\n",
    "\n",
    "    if item[\"id\"] in judgement_map:\n",
    "        verdict = 'Accepted' if judgement_map[item[\"id\"]] else 'Rejected'\n",
    "    else:\n",
    "        verdict = 'No judgement'\n",
    "\n",
    "    display(text_display)\n",
    "    display_verdict(verdict)\n",
    "    display_location(index)\n",
    "\n",
    "# Example data and display call\n",
    "data = [{'id': 47, 'text': 'Some MathJax content $E=mc^2$'}, \n",
    "        {'id': 132, 'text': 'More content $\\int_0^\\infty e^{-x^2} dx$'},\n",
    "        {'id': 12, 'text': 'More filler content'}]\n",
    "display_item(data, \"scratch.jsonl\")\n"
   ]
  },
  {
   "cell_type": "code",
   "execution_count": null,
   "metadata": {},
   "outputs": [],
   "source": [
    "def load_stackexchange(filepath):\n",
    "    data = []\n",
    "    with open(filepath) as fle:\n",
    "        for line in fle:\n",
    "            row = json.loads(line)\n",
    "            row[\"text\"] = \"---INPUT:\\n\\n\" + row[\"input\"] + \"\\n\\n---OUTPUT:\\n\" + row[\"output\"]\n",
    "            row[\"id\"] = row[\"meta\"][\"post_id\"]\n",
    "            data.append(row)\n",
    "    return data"
   ]
  },
  {
   "cell_type": "code",
   "execution_count": null,
   "metadata": {},
   "outputs": [],
   "source": [
    "data_file = \"filtered-stack-exchange/math_33votes.jsonl\"\n",
    "judgement_file = \"human-judgements/math_judgements.yaml\"\n",
    "se_data = load_stackexchange(data_file)\n",
    "print(data)\n",
    "\n",
    "display_item(se_data, judgement_file=judgement_file, index=0)"
   ]
  }
 ],
 "metadata": {
  "kernelspec": {
   "display_name": "Python 3",
   "language": "python",
   "name": "python3"
  },
  "language_info": {
   "codemirror_mode": {
    "name": "ipython",
    "version": 3
   },
   "file_extension": ".py",
   "mimetype": "text/x-python",
   "name": "python",
   "nbconvert_exporter": "python",
   "pygments_lexer": "ipython3",
   "version": "3.10.9"
  }
 },
 "nbformat": 4,
 "nbformat_minor": 2
}
