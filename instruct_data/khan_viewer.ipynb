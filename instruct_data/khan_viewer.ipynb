{
 "cells": [
  {
   "cell_type": "code",
   "execution_count": 204,
   "metadata": {},
   "outputs": [],
   "source": [
    "import json\n",
    "from copy import deepcopy\n",
    "import random\n",
    "\n",
    "from typing import List, Dict\n",
    "\n",
    "from tqdm import tqdm\n",
    "import ipywidgets as widgets\n",
    "from IPython.display import Markdown, display, clear_output"
   ]
  },
  {
   "cell_type": "code",
   "execution_count": 205,
   "metadata": {},
   "outputs": [],
   "source": [
    "def str_of_row(row):\n",
    "    return \"---INPUT:\\n\\n\" + row[\"input\"] + \"\\n\\n---OUTPUT:\\n\\n\" + row[\"output\"]"
   ]
  },
  {
   "cell_type": "code",
   "execution_count": 206,
   "metadata": {},
   "outputs": [],
   "source": [
    "def display_item(data, index=0):\n",
    "    clear_output(wait=True)\n",
    "    item = data[index]\n",
    "    text_display = Markdown(str_of_row(item))\n",
    "\n",
    "    # Creating the buttons\n",
    "    next_button = widgets.Button(description=\"Next\")\n",
    "    prev_button = widgets.Button(description=\"Previous\")\n",
    "\n",
    "    # Navigate through the dataset\n",
    "    def navigate(step):\n",
    "        nonlocal index\n",
    "        index = min(max(0, index + step), len(data) - 1)\n",
    "        display_item(data, index)\n",
    "\n",
    "    next_button.on_click(lambda b: navigate(1))\n",
    "    prev_button.on_click(lambda b: navigate(-1))\n",
    "\n",
    "    # Displaying the components\n",
    "    button_box = widgets.HBox([prev_button, next_button])\n",
    "    display(button_box)\n",
    "    display(text_display)\n",
    "    display(Markdown(f\"ID: {item['meta']['id']}\"))\n",
    "    display(Markdown(f\"{index}/{len(data)}\"))\n",
    "    display(Markdown(f\"Category: {item['meta']['category']}\"))\n",
    "    # display(f\"Raw problem: {item['problem']}\")\n",
    "    # display(f\"Raw hints: {item['hints']}\")\n",
    "    if \"raw\" in item:\n",
    "        display(item[\"raw\"])"
   ]
  },
  {
   "cell_type": "markdown",
   "metadata": {},
   "source": [
    "# Prefiltered data"
   ]
  },
  {
   "cell_type": "code",
   "execution_count": null,
   "metadata": {},
   "outputs": [
    {
     "data": {
      "application/vnd.jupyter.widget-view+json": {
       "model_id": "05ca3b5a9d5e4a039547e3580900e7ee",
       "version_major": 2,
       "version_minor": 0
      },
      "text/plain": [
       "HBox(children=(Button(description='Previous', style=ButtonStyle()), Button(description='Next', style=ButtonSty…"
      ]
     },
     "metadata": {},
     "output_type": "display_data"
    },
    {
     "data": {
      "text/markdown": [
       "---INPUT:\n",
       "\n",
       "Factor the following expression: $180x^2 - 125$\n",
       "\n",
       "---OUTPUT:\n",
       "\n",
       "We can start by factoring a\n",
       "\n",
       "${5}$\n",
       "\n",
       "out of each term:\n",
       "\n",
       "$ {5}({36x^2} - {25})$\n",
       "\n",
       "The second term is of the form\n",
       "\n",
       "${a^2} - {b^2}$\n",
       "\n",
       ", which is a difference of two squares so we can factor it as\n",
       "\n",
       "${5}({a} + {b}) ({a} - {b})$\n",
       "\n",
       "What are the values of\n",
       "\n",
       "$a$\n",
       "\n",
       "and\n",
       "\n",
       "$b$\n",
       "\n",
       "$ a = \\sqrt{36x^2} = 6x$\n",
       "\n",
       "$ b = \\sqrt{25} = 5$\n",
       "\n",
       "Use the values we found for\n",
       "\n",
       "$a$\n",
       "\n",
       "and\n",
       "\n",
       "$b$\n",
       "\n",
       "to complete the factored expression,\n",
       "\n",
       "${5}({a} + {b}) ({a} - {b})$\n",
       "\n",
       "So we can factor the expression as: ${5}({6x} + {5}) ({6x} - {5})$"
      ],
      "text/plain": [
       "<IPython.core.display.Markdown object>"
      ]
     },
     "metadata": {},
     "output_type": "display_data"
    },
    {
     "data": {
      "text/markdown": [
       "ID: 1618055280"
      ],
      "text/plain": [
       "<IPython.core.display.Markdown object>"
      ]
     },
     "metadata": {},
     "output_type": "display_data"
    },
    {
     "data": {
      "text/markdown": [
       "1/629"
      ],
      "text/plain": [
       "<IPython.core.display.Markdown object>"
      ]
     },
     "metadata": {},
     "output_type": "display_data"
    },
    {
     "data": {
      "text/markdown": [
       "Category: 373"
      ],
      "text/plain": [
       "<IPython.core.display.Markdown object>"
      ]
     },
     "metadata": {},
     "output_type": "display_data"
    }
   ],
   "source": [
    "with open(\"khan-prefiltered/prefiltered.jsonl\") as f:\n",
    "    data = [json.loads(x) for x in f]\n",
    "nav = display_item(data, index=0)"
   ]
  },
  {
   "cell_type": "markdown",
   "metadata": {},
   "source": [
    "# GPT-3.5 cleaned data"
   ]
  },
  {
   "cell_type": "code",
   "execution_count": 234,
   "metadata": {},
   "outputs": [],
   "source": [
    "import importlib\n",
    "data_gui = importlib.import_module('data_gui')\n",
    "display_item = getattr(data_gui, 'display_item')"
   ]
  },
  {
   "cell_type": "code",
   "execution_count": 244,
   "metadata": {},
   "outputs": [
    {
     "name": "stdout",
     "output_type": "stream",
     "text": [
      "1617960946: true\n",
      "1618055280: true\n",
      "1618066684: true\n",
      "1618096508: true\n",
      "1618096761: false\n",
      "1618107624: true\n",
      "1618156420: true\n",
      "1618159538: true\n",
      "1618189993: true\n",
      "1618197312: false\n",
      "1618202758: true\n",
      "1618221119: true\n",
      "16082493866: false\n",
      "16082504271: true\n",
      "16082853522: true\n",
      "16082973146: false\n",
      "16083303162: true\n",
      "16083342301: true\n",
      "16083346084: true\n",
      "16083552714: true\n",
      "16083635182: true\n",
      "16083806253: true\n",
      "16085918681: false\n",
      "16086557877: true\n",
      "16086936882: false\n"
     ]
    }
   ],
   "source": [
    "!cat khan-judgements/judgements.yaml"
   ]
  },
  {
   "cell_type": "code",
   "execution_count": 242,
   "metadata": {},
   "outputs": [],
   "source": [
    "with open(\"khan-clean/clean.jsonl\") as f:\n",
    "    data = [json.loads(x) for x in f]\n",
    "\n",
    "for i in range(len(data)):\n",
    "    data[i][\"text\"] = \"---Question:\\n\\n\" + data[i][\"input\"] + \"\\n\\n---Solution:\\n\\n\" + \\\n",
    "        data[i][\"output\"]\n",
    "    data[i][\"id\"] = data[i][\"meta\"][\"id\"]\n"
   ]
  },
  {
   "cell_type": "code",
   "execution_count": null,
   "metadata": {},
   "outputs": [
    {
     "data": {
      "application/vnd.jupyter.widget-view+json": {
       "model_id": "76d56ca5479747c3b920562b886fb006",
       "version_major": 2,
       "version_minor": 0
      },
      "text/plain": [
       "HBox(children=(Button(description='Accept', style=ButtonStyle()), Button(description='Reject', style=ButtonSty…"
      ]
     },
     "metadata": {},
     "output_type": "display_data"
    },
    {
     "data": {
      "text/markdown": [
       "---Question:\n",
       "\n",
       "Write an expression to represent: Eight more than the product of two and a number $x$.\n",
       "\n",
       "\n",
       "\n",
       "---Solution:\n",
       "\n",
       "The expression for eight more than the product of two and a number $x$ can be written as $8 + 2x$."
      ],
      "text/plain": [
       "<IPython.core.display.Markdown object>"
      ]
     },
     "metadata": {},
     "output_type": "display_data"
    },
    {
     "data": {
      "text/html": [
       "<div style='background-color: rgba(0, 0, 0, 0.3);'>No judgement</div>"
      ],
      "text/plain": [
       "<IPython.core.display.HTML object>"
      ]
     },
     "metadata": {},
     "output_type": "display_data"
    },
    {
     "data": {
      "text/markdown": [
       "Index: 361/629"
      ],
      "text/plain": [
       "<IPython.core.display.Markdown object>"
      ]
     },
     "metadata": {},
     "output_type": "display_data"
    },
    {
     "data": {
      "text/markdown": [
       "Post ID: 16085733204"
      ],
      "text/plain": [
       "<IPython.core.display.Markdown object>"
      ]
     },
     "metadata": {},
     "output_type": "display_data"
    },
    {
     "data": {
      "text/markdown": [
       "Accepted: 289, Judged: 361"
      ],
      "text/plain": [
       "<IPython.core.display.Markdown object>"
      ]
     },
     "metadata": {},
     "output_type": "display_data"
    }
   ],
   "source": [
    "\n",
    "display_item(data, \"khan-judgements/judgements.yaml\", index=25)"
   ]
  }
 ],
 "metadata": {
  "kernelspec": {
   "display_name": "ml-projects",
   "language": "python",
   "name": "python3"
  },
  "language_info": {
   "codemirror_mode": {
    "name": "ipython",
    "version": 3
   },
   "file_extension": ".py",
   "mimetype": "text/x-python",
   "name": "python",
   "nbconvert_exporter": "python",
   "pygments_lexer": "ipython3",
   "version": "3.10.9"
  }
 },
 "nbformat": 4,
 "nbformat_minor": 2
}
