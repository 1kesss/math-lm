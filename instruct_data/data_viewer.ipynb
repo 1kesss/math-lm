{
 "cells": [
  {
   "cell_type": "code",
   "execution_count": 102,
   "metadata": {},
   "outputs": [],
   "source": [
    "import yaml\n",
    "import json\n",
    "import os\n",
    "import ipywidgets as widgets\n",
    "from IPython.display import display, Markdown, HTML, clear_output\n"
   ]
  },
  {
   "cell_type": "code",
   "execution_count": 103,
   "metadata": {},
   "outputs": [],
   "source": [
    "!rm scratch.jsonl"
   ]
  },
  {
   "cell_type": "code",
   "execution_count": 104,
   "metadata": {},
   "outputs": [
    {
     "name": "stdout",
     "output_type": "stream",
     "text": [
      "cat: scratch.jsonl: No such file or directory\n"
     ]
    }
   ],
   "source": [
    "!cat scratch.jsonl"
   ]
  },
  {
   "cell_type": "code",
   "execution_count": 124,
   "metadata": {},
   "outputs": [
    {
     "data": {
      "application/vnd.jupyter.widget-view+json": {
       "model_id": "e1c6043ae6cb4f1c864dbafd525d51a7",
       "version_major": 2,
       "version_minor": 0
      },
      "text/plain": [
       "HBox(children=(Button(description='Accept', style=ButtonStyle()), Button(description='Reject', style=ButtonSty…"
      ]
     },
     "metadata": {},
     "output_type": "display_data"
    },
    {
     "data": {
      "text/markdown": [
       "Some MathJax content $E=mc^2$"
      ],
      "text/plain": [
       "<IPython.core.display.Markdown object>"
      ]
     },
     "metadata": {},
     "output_type": "display_data"
    },
    {
     "data": {
      "text/html": [
       "<div style='background-color: rgba(0, 0, 0, 0.3);'>No judgement</div>"
      ],
      "text/plain": [
       "<IPython.core.display.HTML object>"
      ]
     },
     "metadata": {},
     "output_type": "display_data"
    },
    {
     "data": {
      "text/markdown": [
       "Index: 0/3"
      ],
      "text/plain": [
       "<IPython.core.display.Markdown object>"
      ]
     },
     "metadata": {},
     "output_type": "display_data"
    },
    {
     "data": {
      "text/markdown": [
       "Post ID: 47"
      ],
      "text/plain": [
       "<IPython.core.display.Markdown object>"
      ]
     },
     "metadata": {},
     "output_type": "display_data"
    },
    {
     "data": {
      "text/markdown": [
       "Accepted: 0, Judged: 0"
      ],
      "text/plain": [
       "<IPython.core.display.Markdown object>"
      ]
     },
     "metadata": {},
     "output_type": "display_data"
    }
   ],
   "source": [
    "\n",
    "styles = {\n",
    "    'Accepted': 'background-color: rgba(0, 255, 0, 0.3);',  # Translucent green\n",
    "    'Rejected': 'background-color: rgba(255, 0, 0, 0.3);',  # Translucent red\n",
    "    'No judgement': 'background-color: rgba(0, 0, 0, 0.3);'\n",
    "}\n",
    "\n",
    "def display_item(data, judgement_file, index=0):\n",
    "    if os.path.isfile(judgement_file):\n",
    "        with open(judgement_file) as fle:\n",
    "            judgement_map = yaml.safe_load(fle)\n",
    "    else:\n",
    "        judgement_map = dict()\n",
    "\n",
    "    clear_output(wait=True)\n",
    "    item = data[index]\n",
    "    text_display = Markdown(item['text'])\n",
    "\n",
    "    accept_button = widgets.Button(description=\"Accept\")\n",
    "    reject_button = widgets.Button(description=\"Reject\")\n",
    "    next_button = widgets.Button(description=\"Next\")\n",
    "    prev_button = widgets.Button(description=\"Previous\")\n",
    "\n",
    "    def display_verdict(verdict):\n",
    "        verdict_display = HTML(f\"<div style='{styles[verdict]}'>{verdict}</div>\")\n",
    "        display(verdict_display)\n",
    "\n",
    "    def on_accept(b):\n",
    "        judgement_map[item[\"id\"]] = True\n",
    "        with open(judgement_file, 'w') as fle:\n",
    "            yaml.dump(judgement_map, fle)\n",
    "\n",
    "        navigate(1)\n",
    "\n",
    "    def on_reject(b):\n",
    "        judgement_map[item[\"id\"]] = False\n",
    "        with open(judgement_file, 'w') as fle:\n",
    "            yaml.dump(judgement_map, fle)\n",
    "        navigate(1)\n",
    "\n",
    "    def navigate(step):\n",
    "        nonlocal index\n",
    "        index = min(max(0, index + step), len(data) - 1)\n",
    "        display_item(data, judgement_file, index)\n",
    "\n",
    "    def display_buttons():\n",
    "        button_box = widgets.HBox([accept_button, reject_button, prev_button, next_button])\n",
    "        display(button_box)\n",
    "    \n",
    "    def display_location(index):\n",
    "        display(Markdown(f\"Index: {index}/{len(data)}\"))\n",
    "\n",
    "        display(Markdown(f\"Post ID: {item['id']}\"))\n",
    "    \n",
    "        num_judged = len(judgement_map.keys())\n",
    "        num_accepted = sum(judgement_map.values())\n",
    "        display(Markdown(f\"Accepted: {num_accepted}, Judged: {num_judged}\"))\n",
    "\n",
    "    accept_button.on_click(on_accept)\n",
    "    reject_button.on_click(on_reject)\n",
    "    next_button.on_click(lambda b: navigate(1))\n",
    "    prev_button.on_click(lambda b: navigate(-1))\n",
    "\n",
    "    display_buttons()\n",
    "\n",
    "    if item[\"id\"] in judgement_map:\n",
    "        verdict = 'Accepted' if judgement_map[item[\"id\"]] else 'Rejected'\n",
    "    else:\n",
    "        verdict = 'No judgement'\n",
    "\n",
    "    display(text_display)\n",
    "    display_verdict(verdict)\n",
    "    display_location(index)\n",
    "\n",
    "# Example data and display call\n",
    "data = [{'id': 47, 'text': 'Some MathJax content $E=mc^2$'}, \n",
    "        {'id': 132, 'text': 'More content $\\int_0^\\infty e^{-x^2} dx$'},\n",
    "        {'id': 12, 'text': 'More filler content'}]\n",
    "display_item(data, \"scratch.jsonl\")\n"
   ]
  },
  {
   "cell_type": "code",
   "execution_count": 125,
   "metadata": {},
   "outputs": [],
   "source": [
    "def load_stackexchange(filepath):\n",
    "    data = []\n",
    "    with open(filepath) as fle:\n",
    "        for line in fle:\n",
    "            row = json.loads(line)\n",
    "            row[\"text\"] = \"---INPUT:\\n\\n\" + row[\"input\"] + \"\\n\\n---OUTPUT:\\n\" + row[\"output\"]\n",
    "            row[\"id\"] = row[\"meta\"][\"post_id\"]\n",
    "            data.append(row)\n",
    "    return data"
   ]
  },
  {
   "cell_type": "code",
   "execution_count": 129,
   "metadata": {},
   "outputs": [
    {
     "name": "stdout",
     "output_type": "stream",
     "text": [
      "41: false\n",
      "159: false\n",
      "167: false\n",
      "175: true\n",
      "184: false\n",
      "284: true\n",
      "376: false\n",
      "524: true\n",
      "529: true\n",
      "562: true\n",
      "682: false\n",
      "710: false\n",
      "716: false\n",
      "761: false\n",
      "799: true\n",
      "914: true\n",
      "1026: false\n",
      "1046: false\n",
      "1063: false\n",
      "1233: false\n",
      "1263: false\n",
      "1298: true\n",
      "1313: true\n",
      "1348: false\n",
      "1521: false\n",
      "1824: false\n",
      "1893: false\n",
      "1948: false\n",
      "2021: false\n",
      "2045: true\n",
      "2149: false\n",
      "2229: true\n",
      "2252: false\n",
      "2277: false\n",
      "2315: true\n",
      "2328: false\n",
      "2349: true\n",
      "2353: true\n",
      "2426: true\n",
      "2428: true\n",
      "2434: true\n",
      "2461: false\n",
      "2505: true\n",
      "2585: false\n",
      "2703: false\n",
      "2800: false\n",
      "2892: false\n",
      "3074: true\n",
      "3287: false\n",
      "3304: true\n",
      "3332: false\n",
      "3360: false\n",
      "3496: false\n",
      "3786: false\n",
      "3863: false\n",
      "3888: false\n",
      "3987: true\n",
      "4027: false\n",
      "4096: true\n",
      "4489: false\n",
      "4683: false\n",
      "4697: false\n",
      "4746: true\n",
      "4816: true\n",
      "4882: false\n",
      "5003: false\n",
      "5018: false\n",
      "5110: true\n",
      "5157: true\n",
      "5158: true\n",
      "5245: true\n",
      "5395: true\n",
      "5427: false\n",
      "5431: false\n",
      "5922: true\n",
      "5994: false\n",
      "6085: true\n",
      "6519: false\n",
      "6713: true\n",
      "6735: false\n",
      "6748: true\n",
      "6753: false\n",
      "6952: false\n",
      "6959: false\n",
      "7029: true\n",
      "7129: true\n",
      "7388: false\n",
      "7469: false\n",
      "7552: false\n",
      "7559: true\n",
      "7561: true\n",
      "7642: true\n",
      "7894: true\n",
      "8000: true\n",
      "8034: false\n",
      "8095: true\n",
      "8234: false\n",
      "8259: false\n",
      "8470: false\n",
      "8563: false\n",
      "8598: false\n",
      "8664: false\n",
      "8739: true\n",
      "8883: true\n",
      "8902: true\n",
      "8918: false\n",
      "8991: true\n",
      "9084: true\n",
      "9091: true\n",
      "9173: true\n",
      "9237: false\n",
      "9298: false\n",
      "9500: true\n",
      "9775: true\n",
      "10170: true\n",
      "10485: false\n",
      "10486: false\n",
      "10519: false\n",
      "10608: true\n",
      "10635: true\n",
      "10837: false\n",
      "10983: true\n",
      "11363: false\n",
      "11422: false\n",
      "11425: false\n",
      "11894: false\n",
      "11927: true\n",
      "12255: true\n",
      "12504: false\n",
      "12671: true\n",
      "12865: true\n",
      "12885: true\n",
      "14289: false\n",
      "14320: false\n",
      "14404: false\n",
      "14457: true\n",
      "14726: false\n",
      "14994: true\n",
      "15025: false\n",
      "16182: true\n",
      "16206: false\n",
      "16512: false\n",
      "16608: false\n",
      "16628: false\n",
      "16983: true\n",
      "17006: false\n",
      "17031: true\n",
      "17292: true\n",
      "17462: true\n",
      "17545: false\n",
      "18791: true\n",
      "18846: false\n",
      "19636: true\n",
      "19675: true\n",
      "19845: true\n",
      "20536: true\n",
      "20682: false\n",
      "20755: false\n",
      "20843: true\n",
      "21026: true\n",
      "21060: false\n",
      "21199: false\n",
      "21571: false\n",
      "21787: false\n",
      "22130: true\n",
      "22431: false\n",
      "22544: false\n",
      "24917: false\n",
      "24986: true\n",
      "25279: true\n",
      "25512: false\n",
      "25794: false\n",
      "25975: true\n",
      "26012: true\n",
      "27979: true\n",
      "175 human-judgements/cstheory_judgements.yaml\n"
     ]
    }
   ],
   "source": [
    "!cat human-judgements/cstheory_judgements.yaml\n",
    "!wc -l human-judgements/cstheory_judgements.yaml"
   ]
  },
  {
   "cell_type": "code",
   "execution_count": null,
   "metadata": {},
   "outputs": [
    {
     "data": {
      "application/vnd.jupyter.widget-view+json": {
       "model_id": "f7111f2324a44c0a8f86bd14fbbdbe1f",
       "version_major": 2,
       "version_minor": 0
      },
      "text/plain": [
       "HBox(children=(Button(description='Accept', style=ButtonStyle()), Button(description='Reject', style=ButtonSty…"
      ]
     },
     "metadata": {},
     "output_type": "display_data"
    },
    {
     "data": {
      "text/markdown": [
       "---INPUT:\n",
       "\n",
       "Scott Aaronson proposed an interesting challange: can we use supercomputers today to help solve CS problems in the same way that physicists use large particle colliders?\n",
       "\n",
       "More concretely, my proposal is to\n",
       "  devote some of the world’s computing\n",
       "  power to an all-out attempt to answer\n",
       "  questions like the following: does\n",
       "  computing the permanent of a 4-by-4\n",
       "  matrix require more arithmetic\n",
       "  operations than computing its\n",
       "  determinant?\n",
       "\n",
       "He concludes that this would require ~$10^{123}$ floating point operations, which is beyond our current means.  The slides are available and are also worth reading.  \n",
       "Is there any precedence for solving open TCS problems through brute force experimentation?\n",
       "\n",
       "---OUTPUT:\n",
       "In \"Finding Efficient Circuits Using SAT-solvers\", Kojevnikov, Kulikov, and Yaroslavtsev have used SAT solvers to find better circuits for computing $MOD_k$ function. \n",
       "I have used computers to find proofs of time-space lower bounds, as described here. But that was only feasible because I was working with an extremely restrictive proof system.\n",
       "Maverick Woo and I have been working for some time to find the \"right\" domain for proving circuit upper/lower bounds using computers. We had hoped that we may resolve $CC^0$ vs $ACC^0$ (or a very weak version of it) using SAT solvers, but this is looking more and more unlikely. (I hope Maverick doesn't mind me saying this...)\n",
       "The first generic problem with using brute-force search to prove nontrivial lower bounds is that it just takes too damn long, even on a very fast computer. The alternative is to try to use SAT solvers, QBF solvers, or other sophisticated optimization tools, but they do not seem to be enough to offset the enormity of the search space. Circuit synthesis problems are among the hardest practical instances one can come by.\n",
       "The second generic problem is that the \"proof\" of the resulting lower bound (obtained by running brute-force search and finding nothing) would be insanely long and apparently yield no insight (other than the fact that the lower bound holds). So a big challenge to \"experimental complexity theory\" is to find interesting lower bound questions for which the eventual \"proof\" of the lower bound is short enough to be verifiable, and interesting enough to lead to further insights."
      ],
      "text/plain": [
       "<IPython.core.display.Markdown object>"
      ]
     },
     "metadata": {},
     "output_type": "display_data"
    },
    {
     "data": {
      "text/html": [
       "<div style='background-color: rgba(0, 255, 0, 0.3);'>Accepted</div>"
      ],
      "text/plain": [
       "<IPython.core.display.HTML object>"
      ]
     },
     "metadata": {},
     "output_type": "display_data"
    },
    {
     "data": {
      "text/markdown": [
       "Index: 7/213"
      ],
      "text/plain": [
       "<IPython.core.display.Markdown object>"
      ]
     },
     "metadata": {},
     "output_type": "display_data"
    },
    {
     "data": {
      "text/markdown": [
       "Post ID: 524"
      ],
      "text/plain": [
       "<IPython.core.display.Markdown object>"
      ]
     },
     "metadata": {},
     "output_type": "display_data"
    },
    {
     "data": {
      "text/markdown": [
       "Accepted: 96, Judged: 213"
      ],
      "text/plain": [
       "<IPython.core.display.Markdown object>"
      ]
     },
     "metadata": {},
     "output_type": "display_data"
    }
   ],
   "source": [
    "data_file = \"filtered-stack-exchange/cstheory_filtered.jsonl\"\n",
    "judgement_file = \"human-judgements/cstheory_judgements.yaml\"\n",
    "se_data = load_stackexchange(data_file)\n",
    "print(data)\n",
    "\n",
    "display_item(se_data, judgement_file=judgement_file, index=210)"
   ]
  }
 ],
 "metadata": {
  "kernelspec": {
   "display_name": "Python 3",
   "language": "python",
   "name": "python3"
  },
  "language_info": {
   "codemirror_mode": {
    "name": "ipython",
    "version": 3
   },
   "file_extension": ".py",
   "mimetype": "text/x-python",
   "name": "python",
   "nbconvert_exporter": "python",
   "pygments_lexer": "ipython3",
   "version": "3.10.9"
  }
 },
 "nbformat": 4,
 "nbformat_minor": 2
}
