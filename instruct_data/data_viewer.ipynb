{
 "cells": [
  {
   "cell_type": "code",
   "execution_count": 102,
   "metadata": {},
   "outputs": [],
   "source": [
    "import yaml\n",
    "import json\n",
    "import os\n",
    "import ipywidgets as widgets\n",
    "from IPython.display import display, Markdown, HTML, clear_output\n"
   ]
  },
  {
   "cell_type": "code",
   "execution_count": 103,
   "metadata": {},
   "outputs": [],
   "source": [
    "!rm scratch.jsonl"
   ]
  },
  {
   "cell_type": "code",
   "execution_count": 104,
   "metadata": {},
   "outputs": [
    {
     "name": "stdout",
     "output_type": "stream",
     "text": [
      "cat: scratch.jsonl: No such file or directory\n"
     ]
    }
   ],
   "source": [
    "!cat scratch.jsonl"
   ]
  },
  {
   "cell_type": "code",
   "execution_count": 113,
   "metadata": {},
   "outputs": [
    {
     "ename": "SyntaxError",
     "evalue": "f-string: unmatched '[' (3444203761.py, line 53)",
     "output_type": "error",
     "traceback": [
      "\u001b[0;36m  Cell \u001b[0;32mIn[113], line 53\u001b[0;36m\u001b[0m\n\u001b[0;31m    display(Markdown(f\"Post ID: {item[\"id\"]}\"))\u001b[0m\n\u001b[0m                                       ^\u001b[0m\n\u001b[0;31mSyntaxError\u001b[0m\u001b[0;31m:\u001b[0m f-string: unmatched '['\n"
     ]
    }
   ],
   "source": [
    "\n",
    "styles = {\n",
    "    'Accepted': 'background-color: rgba(0, 255, 0, 0.3);',  # Translucent green\n",
    "    'Rejected': 'background-color: rgba(255, 0, 0, 0.3);',  # Translucent red\n",
    "    'No judgement': 'background-color: rgba(0, 0, 0, 0.3);'\n",
    "}\n",
    "\n",
    "def display_item(data, judgement_file, index=0):\n",
    "    if os.path.isfile(judgement_file):\n",
    "        with open(judgement_file) as fle:\n",
    "            judgement_map = yaml.safe_load(fle)\n",
    "    else:\n",
    "        judgement_map = dict()\n",
    "\n",
    "    clear_output(wait=True)\n",
    "    item = data[index]\n",
    "    text_display = Markdown(item['text'])\n",
    "    display(text_display)\n",
    "\n",
    "    accept_button = widgets.Button(description=\"Accept\")\n",
    "    reject_button = widgets.Button(description=\"Reject\")\n",
    "    next_button = widgets.Button(description=\"Next\")\n",
    "    prev_button = widgets.Button(description=\"Previous\")\n",
    "\n",
    "    def display_verdict(verdict):\n",
    "        verdict_display = HTML(f\"<div style='{styles[verdict]}'>{verdict}</div>\")\n",
    "        display(verdict_display)\n",
    "\n",
    "    def on_accept(b):\n",
    "        judgement_map[item[\"id\"]] = True\n",
    "        with open(judgement_file, 'w') as fle:\n",
    "            yaml.dump(judgement_map, fle)\n",
    "\n",
    "        navigate(1)\n",
    "\n",
    "    def on_reject(b):\n",
    "        judgement_map[item[\"id\"]] = False\n",
    "        with open(judgement_file, 'w') as fle:\n",
    "            yaml.dump(judgement_map, fle)\n",
    "        navigate(1)\n",
    "\n",
    "    def navigate(step):\n",
    "        nonlocal index\n",
    "        index = min(max(0, index + step), len(data) - 1)\n",
    "        display_item(data, judgement_file, index)\n",
    "\n",
    "    def display_buttons():\n",
    "        button_box = widgets.HBox([accept_button, reject_button, prev_button, next_button])\n",
    "        display(button_box)\n",
    "    \n",
    "    def display_location(index):\n",
    "        display(Markdown(f\"Index: {index}/{len(data)}\"))\n",
    "\n",
    "        display(Markdown(f\"Post ID: {item['id']}\"))\n",
    "    \n",
    "        num_judged = len(judgement_map.keys())\n",
    "        num_accepted = sum(judgement_map.values())\n",
    "        display(Markdown(f\"Accepted: {num_accepted}, Judged: {num_judged}\"))\n",
    "\n",
    "    accept_button.on_click(on_accept)\n",
    "    reject_button.on_click(on_reject)\n",
    "    next_button.on_click(lambda b: navigate(1))\n",
    "    prev_button.on_click(lambda b: navigate(-1))\n",
    "\n",
    "    display_buttons()\n",
    "\n",
    "    if item[\"id\"] in judgement_map:\n",
    "        verdict = 'Accepted' if judgement_map[item[\"id\"]] else 'Rejected'\n",
    "    else:\n",
    "        verdict = 'No judgement'\n",
    "\n",
    "    display_verdict(verdict)\n",
    "    display_location(index)\n",
    "\n",
    "# Example data and display call\n",
    "data = [{'id': 47, 'text': 'Some MathJax content $E=mc^2$'}, \n",
    "        {'id': 132, 'text': 'More content $\\int_0^\\infty e^{-x^2} dx$'},\n",
    "        {'id': 12, 'text': 'More filler content'}]\n",
    "display_item(data, \"scratch.jsonl\")\n"
   ]
  },
  {
   "cell_type": "code",
   "execution_count": 106,
   "metadata": {},
   "outputs": [],
   "source": [
    "def load_stackexchange(filepath):\n",
    "    data = []\n",
    "    with open(filepath) as fle:\n",
    "        for line in fle:\n",
    "            row = json.loads(line)\n",
    "            row[\"text\"] = \"INPUT:\\n\" + row[\"input\"] + \"\\n\\nOUTPUT:\\n\" + row[\"output\"]\n",
    "            row[\"id\"] = row[\"meta\"][\"post_id\"]\n",
    "            data.append(row)\n",
    "    return data"
   ]
  },
  {
   "cell_type": "code",
   "execution_count": 112,
   "metadata": {},
   "outputs": [
    {
     "name": "stdout",
     "output_type": "stream",
     "text": [
      "41: false\n"
     ]
    }
   ],
   "source": [
    "!cat human-judgements/cstheory_judgements.yaml"
   ]
  },
  {
   "cell_type": "code",
   "execution_count": null,
   "metadata": {},
   "outputs": [
    {
     "data": {
      "text/markdown": [
       "INPUT:\n",
       "If $f$ is a convex function then Jensen's inequality states that $f(\\textbf{E}[x]) \\le \\textbf{E}[f(x)]$, and mutatis mutandis when $f$ is concave.  Clearly in the worst case you cannot upper bound $\\textbf{E}[f(x)]$ in terms of $f(\\textbf{E}[x])$ for a convex $f$, but is there a bound that goes in this direction if $f$ is convex but \"not too convex\"?  Is there some standard bound that  gives conditions on a convex function $f$ (and possibly the distribution as well, if necessary) that would allow you to conclude that $\\textbf{E}[f(x)] \\le \\varphi(f)f(\\textbf{E}[x])$, where $\\varphi(f)$ is some function of the curvature/degree of convexity of $f$?  Something akin to a Lipschitz condition, perhaps?\n",
       "\n",
       "OUTPUT:\n",
       "EDIT: original version missed an absolute value.  sorry!!\n",
       "Hi Ian.  I will briefly outline two sample inequalities, one using a Lipschitz bound, the other using a bound on the second derivative, and then discuss some difficulties in this problem.  Although I'm being redundant, since an approach using one derivative explains what happens with more derivatives (via Taylor), it turns out that the second derivative version is quite nice.\n",
       "First, with a Lipschitz bound: simply re-work the standard Jensen inequality.  The same trick applies: compute the Taylor expansion at the expected value.\n",
       "Specifically, Let $X$ have corresponding measure $\\mu$, and set $m := \\textrm E(x)$.\n",
       "If $f$ has Lipschitz constant $L$, then by Taylor's theorem\n",
       "$$\n",
       "f(x) = f(m) + f'(z)(x-m) \\leq f(m) + L|x-m|,\n",
       "$$\n",
       "where $z \\in [m, x]$ (note that $x\\leq m$ and $x> m$ are possible). Using this and re-working the Jensen proof (I am paranoid and checked that the standard one is indeed on wikipedia),\n",
       "\\begin{align}\n",
       "\\operatorname{E}(f(X)) & = \n",
       "\\int f(x) \\, d\\mu(x) \n",
       "\\leq f(m) \\int d\\mu(x) + L\\int |x-m| \\, d\\mu(x) \\\\[6pt]\n",
       "& = f(\\operatorname{E}(X)) + L \\operatorname{E} (|X-\\operatorname{E}(X)|).\n",
       "\\end{align}\n",
       "Now, suppose $|f''(x)| \\leq \\lambda$.  In this case,\n",
       "\\begin{align}\n",
       "f(x) & = f(m) + f'(m)(x-m) + f''(z) \\frac{(x-m)^2} 2 \\\\[6pt]\n",
       "& \\leq f(m) + f'(m)(x-m) + \\lambda \\frac{(x-m)^2} 2,\n",
       "\\end{align}\n",
       "and so\n",
       "\\begin{align}\n",
       "\\operatorname{E}(f(X))\n",
       "& \\leq f(m) + f'(m)(\\operatorname{E}(X) - m) + \\frac {\\lambda \\operatorname{E}((X-m)^2)}{2} \\\\[6pt]\n",
       "& = f(\\operatorname{E}(X)) + \\frac {\\lambda \\operatorname{Var}(X)}2.\n",
       "\\end{align}\n",
       "I'd like to briefly mention a few things.  Sorry if they are obvious.\n",
       "One is that, you can't merely say \"wlog $\\operatorname{E}(X) = 0$\" by shifting the distribution, because you are changing the relationship between $f$ and $\\mu$.\n",
       "Next is that the bound must depend on the distribution in some way.  To see this, imagine that $X \\sim \\textrm{Gaussian}(0, \\sigma^2)$ and $f(x) = x^2$.  Whatever the value of $\\sigma$, you still get $f(\\operatorname{E}(X)) = f(0) = 0$.  On the other hand, $\\operatorname{E}(f(X)) = \\operatorname{E}(X^2) = \\sigma^2$.  Thus, by changing $\\sigma$, you can make the gap between the two quantities arbitrary!  Intuitively, more mass is pushed away from the mean, and thus, for any strictly convex function, $\\operatorname{E} (f(X))$ will increase.\n",
       "Lastly, I don't see how to get a multiplicative bound like you suggest.  Everything I have used in this post is standard: Taylor's theorem and derivative bounds are bread&butter in statistics bounds, and they automatically give additive, not multiplicative errors.\n",
       "I will think about it though, and post something.  Vague intuition is it will need very strenous conditions on both the function and the distribution, and that the additive bound is actually at the heart of it."
      ],
      "text/plain": [
       "<IPython.core.display.Markdown object>"
      ]
     },
     "metadata": {},
     "output_type": "display_data"
    },
    {
     "data": {
      "application/vnd.jupyter.widget-view+json": {
       "model_id": "17d37bc6a3724c5982e02ba8709556f2",
       "version_major": 2,
       "version_minor": 0
      },
      "text/plain": [
       "HBox(children=(Button(description='Accept', style=ButtonStyle()), Button(description='Reject', style=ButtonSty…"
      ]
     },
     "metadata": {},
     "output_type": "display_data"
    },
    {
     "data": {
      "text/html": [
       "<div style='background-color: rgba(0, 0, 0, 0.3);'>No judgement</div>"
      ],
      "text/plain": [
       "<IPython.core.display.HTML object>"
      ]
     },
     "metadata": {},
     "output_type": "display_data"
    },
    {
     "data": {
      "text/markdown": [
       "Index: 10/213"
      ],
      "text/plain": [
       "<IPython.core.display.Markdown object>"
      ]
     },
     "metadata": {},
     "output_type": "display_data"
    },
    {
     "data": {
      "text/markdown": [
       "Accepted: 5, Judged: 10"
      ],
      "text/plain": [
       "<IPython.core.display.Markdown object>"
      ]
     },
     "metadata": {},
     "output_type": "display_data"
    }
   ],
   "source": [
    "data_file = \"filtered-stack-exchange/cstheory_filtered.jsonl\"\n",
    "judgement_file = \"human-judgements/cstheory_judgements.yaml\"\n",
    "se_data = load_stackexchange(data_file)\n",
    "print(data)\n",
    "\n",
    "display_item(se_data, judgement_file=judgement_file)"
   ]
  }
 ],
 "metadata": {
  "kernelspec": {
   "display_name": "Python 3",
   "language": "python",
   "name": "python3"
  },
  "language_info": {
   "codemirror_mode": {
    "name": "ipython",
    "version": 3
   },
   "file_extension": ".py",
   "mimetype": "text/x-python",
   "name": "python",
   "nbconvert_exporter": "python",
   "pygments_lexer": "ipython3",
   "version": "3.10.9"
  }
 },
 "nbformat": 4,
 "nbformat_minor": 2
}
