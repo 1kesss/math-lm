{
 "cells": [
  {
   "cell_type": "code",
   "execution_count": 1,
   "id": "4d946c3f",
   "metadata": {},
   "outputs": [],
   "source": [
    "from datasets import load_from_disk"
   ]
  },
  {
   "cell_type": "code",
   "execution_count": 2,
   "id": "dddc7dde",
   "metadata": {},
   "outputs": [],
   "source": [
    "ds = load_from_disk(\"stack-code/mathematica\")\n",
    "ds = ds.shuffle()"
   ]
  },
  {
   "cell_type": "code",
   "execution_count": 3,
   "id": "82654d8c",
   "metadata": {},
   "outputs": [],
   "source": [
    "i = 0 "
   ]
  },
  {
   "cell_type": "code",
   "execution_count": 28,
   "id": "a314231a",
   "metadata": {},
   "outputs": [
    {
     "name": "stdout",
     "output_type": "stream",
     "text": [
      "Notebook[{\n",
      "Cell[\" \", \"SymbolColorBar\",\n",
      " CellMargins->{{Inherited, Inherited}, {-5, \n",
      "   0}},ExpressionUUID->\"260b93cd-d004-48b1-80d7-e759daceda3d\"],\n",
      "\n",
      "Cell[TextData[{\n",
      " ButtonBox[\"BlackHoleAnalysis\",\n",
      "  BaseStyle->{\"Link\", \"LinkTrail\"},\n",
      "  ButtonData->\"paclet:BlackHoleAnalysis/guide/BlackHoleAnalysis\"],\n",
      " StyleBox[\" > \", \"LinkTrailSeparator\"],\n",
      " ButtonBox[\"BlackHoleAnalysis`Labels\",\n",
      "  BaseStyle->{\"Link\", \"LinkTrail\"},\n",
      "  ButtonData->\"paclet:BlackHoleAnalysis/guide/BlackHoleAnalysis`Labels\"],\n",
      " StyleBox[\" > \", \"LinkTrailSeparator\"],\n",
      " ButtonBox[\"QrLabel\",\n",
      "  BaseStyle->{\"Link\", \"LinkTrail\"},\n",
      "  ButtonData->\"paclet:BlackHoleAnalysis/ref/QrLabel\"]\n",
      "}], \"LinkTrail\",ExpressionUUID->\"08804df0-4298-45c4-a0c2-523cd0bcb625\"],\n",
      "\n",
      "Cell[CellGroupData[{\n",
      "\n",
      "Cell[\"QrLabel\", \\\n",
      "\"ObjectName\",ExpressionUUID->\"7a705292-8cec-4aab-9c02-e15204282a4f\"],\n",
      "\n",
      "Cell[BoxData[GridBox[{\n",
      "   {\"\", Cell[TextData[{\n",
      "     Cell[BoxData[\n",
      "      RowBox[{\n",
      "       ButtonBox[\"QrLabel\",\n",
      "        BaseStyle->\"Link\",\n",
      "        ButtonData->\"paclet:BlackHoleAnalysis/ref/QrLabel\"], \"[\", \"]\"}]], \n",
      "      \"InlineFormula\",ExpressionUUID->\"ba2c5cb6-3b4d-4bb5-89f0-415258626907\"],\n",
      "     \n",
      "     \"\\[LineSeparator]returns the string treated as a label for the metric \\\n",
      "perturbation amplitude source term Qr\"\n",
      "    }],ExpressionUUID->\"891a8838-459d-456f-9d54-147b1654b74a\"]}\n",
      "  }]], \"Usage\",ExpressionUUID->\"3d7c2e99-66f6-4de0-ac62-b4edef705a28\"]\n",
      "}, Open  ]],\n",
      "\n",
      "Cell[CellGroupData[{\n",
      "\n",
      "Cell[\" \", \"FooterCell\",ExpressionUUID->\"425c42cc-252b-4af6-87a2-3029131070d2\"],\n",
      "\n",
      "Cell[BoxData[\"\"],ExpressionUUID->\"cc3105bb-0e8a-4a63-87f5-260279fb3563\"]\n",
      "}, Open  ]]\n",
      "},\n",
      "Saveable->False,\n",
      "ScreenStyleEnvironment->\"Working\",\n",
      "WindowSize->{725, 750},\n",
      "WindowMargins->{{0, Automatic}, {Automatic, 0}},\n",
      "WindowTitle->\"QrLabel\",\n",
      "Visible->True,\n",
      "PrivateNotebookOptions->{\"FileOutlineCache\"->False},\n",
      "TaggingRules->{\n",
      " \"ModificationHighlight\" -> False, \n",
      "  \"Metadata\" -> {\n",
      "   \"context\" -> \"BlackHoleAnalysis`\", \n",
      "    \"keywords\" -> {\"QrLabel\", \"QRLABEL\", \"qrlabel\"}, \"index\" -> True, \"label\" -> \n",
      "    \"BlackHoleAnalysis/BlackHoleAnalysis`Labels Symbol\", \"language\" -> \"en\", \n",
      "    \"paclet\" -> \"BlackHoleAnalysis`Labels\", \"status\" -> \"None\", \"summary\" -> \n",
      "    \"QrLabel[] returns the string treated as a label for the metric \\\n",
      "perturbation amplitude source term Qr\", \n",
      "    \"synonyms\" -> {\"QrLabel\", \"QRLABEL\", \"qrlabel\"}, \"title\" -> \"QrLabel\", \n",
      "    \"windowTitle\" -> \"QrLabel\", \"type\" -> \"Symbol\", \"uri\" -> \n",
      "    \"BlackHoleAnalysis/ref/QrLabel\", \"WorkflowDockedCell\" -> \"\"}, \n",
      "  \"SearchTextTranslated\" -> \"\", \"LinkTrails\" -> \"\"},\n",
      "TrackCellChangeTimes->False,\n",
      "FrontEndVersion->\"11.3 for Mac OS X x86 (32-bit, 64-bit Kernel) (March 5, \\\n",
      "2018)\",\n",
      "StyleDefinitions->FrontEnd`FileName[{\"Wolfram\"}, \"Reference.nb\", \n",
      "  CharacterEncoding -> \"UTF-8\"]\n",
      "]\n",
      "\n",
      "\n"
     ]
    }
   ],
   "source": [
    "text = ds[i]\n",
    "i += 1\n",
    "print(text[\"content\"])"
   ]
  }
 ],
 "metadata": {
  "kernelspec": {
   "display_name": "Python 3",
   "language": "python",
   "name": "python3"
  },
  "language_info": {
   "codemirror_mode": {
    "name": "ipython",
    "version": 3
   },
   "file_extension": ".py",
   "mimetype": "text/x-python",
   "name": "python",
   "nbconvert_exporter": "python",
   "pygments_lexer": "ipython3",
   "version": "3.10.4"
  }
 },
 "nbformat": 4,
 "nbformat_minor": 5
}
