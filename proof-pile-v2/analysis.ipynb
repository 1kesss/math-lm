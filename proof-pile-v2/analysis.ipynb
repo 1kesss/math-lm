{
 "cells": [
  {
   "cell_type": "code",
   "execution_count": 138,
   "id": "4d946c3f",
   "metadata": {},
   "outputs": [],
   "source": [
    "import ndjson\n",
    "import random\n",
    "import re\n",
    "from functools import partial"
   ]
  },
  {
   "cell_type": "markdown",
   "id": "d2b6ac94",
   "metadata": {},
   "source": [
    "**Problems with the stack**\n",
    "- Issue: Matlab is wrong. There are only 111 matlab files that match the regex `[a-df-zA-Z]`. Looks like most of the matlab files are just arrays saved as text. Very little of the actual code was captured. \n",
    "    - [x] Fix 1: Regex filter to delete arrays\n",
    "    - [ ] Fix 2: Find rest of matlab files\n",
    "- Issue: The R data contains MacOS \"resource fork\" files that aren't related to R at all. \n",
    "    - [x] Fix: filter out resource forks\n",
    "- Issue: Wolfram mathematica has three file formats:`.wls`: Wolfram language script, handled ok; `.m`Wolfram language package, handled ok; `.nb`: notebook, the plaintext has a bunch of noise. Need to export as `.wls`. \n",
    "    - [ ] Fix: convert notebooks to tex or wls\n",
    "- There is one mathematica repo, `dendaxD/QAOA-MaxCut-amplitudes`, that contains about half of all mathematica files in the stack. All these files are extremely similar and should be included on data diversity grounds\n",
    "    - [ ] Fix: filter out this repo. \n",
    "\n",
    "Languages the stack does ok:\n",
    "- Lean is fine\n",
    "- Julia is fine (possibly want to remove files that meet jsonl spec)\n",
    "- Sage is fine (apart from stuff in problems to investigate)\n",
    "\n",
    "Problems to investigate:\n",
    "- .sagews files have a bunch of hashes all over the place. How to get rid of this?\n",
    "- .sage files tend to have a bunch of long strings of hardcode numbers. Is this ok? e.g `ClathomasPrime/CompetitiveStableMatching:Plotting/plots.sage`"
   ]
  },
  {
   "cell_type": "code",
   "execution_count": 677,
   "id": "49160a9c",
   "metadata": {},
   "outputs": [],
   "source": [
    "def matlab_rexp(example, rexp):\n",
    "    return bool(h.search(example[\"content\"]))\n",
    "\n",
    "h = re.compile('[a-df-zA-Z]')\n",
    "matlab_fix = partial(matlab_rexp, rexp=h)\n",
    "\n",
    "def r_fix(example): \n",
    "    return \"/* Resource fork\" not in example[\"content\"]\n",
    "\n",
    "def mathematica_fix(example): \n",
    "    return example[\"max_stars_repo_name\"] != \"dendaxD/QAOA-MaxCut-amplitudes\""
   ]
  },
  {
   "cell_type": "code",
   "execution_count": 678,
   "id": "dddc7dde",
   "metadata": {},
   "outputs": [
    {
     "name": "stdout",
     "output_type": "stream",
     "text": [
      "before filter len:  41260\n",
      "after filter len:  21810\n"
     ]
    }
   ],
   "source": [
    "lang = \"mathematica\"\n",
    "with open(f\"stack-code/{lang}/0000000.jsonl\") as f: \n",
    "    ds = ndjson.load(f)\n",
    "\n",
    "print(\"before filter len: \", len(ds))\n",
    "ds = list(filter(mathematica_fix, ds))\n",
    "print(\"after filter len: \", len(ds))"
   ]
  },
  {
   "cell_type": "code",
   "execution_count": 581,
   "id": "82654d8c",
   "metadata": {},
   "outputs": [],
   "source": [
    "i = 0 \n",
    "random.shuffle(ds)"
   ]
  },
  {
   "cell_type": "code",
   "execution_count": 676,
   "id": "a314231a",
   "metadata": {},
   "outputs": [
    {
     "name": "stdout",
     "output_type": "stream",
     "text": [
      "95\n",
      "dendaxD/QAOA-MaxCut-amplitudes\n",
      "lines/1round/mathematica-files/16v2 1 1 1 3 2 3 2 1.nb\n",
      "########################################\n",
      "\n",
      "nqubits = 16;\n",
      "name = \"16v2 1 1 1 3 2 3 2 1\";\n",
      "nstates = 4;\n",
      "\n",
      "amplitude[x_,y_] := (Exp[-15 I y] (1 (I Sin[x])^6 Cos[x]^10 + 1 (I Sin[x])^10 Cos[x]^6) + Exp[-13 I y] (7 (I Sin[x])^7 Cos[x]^9 + 7 (I Sin[x])^9 Cos[x]^7 + 3 (I Sin[x])^6 Cos[x]^10 + 3 (I Sin[x])^10 Cos[x]^6 + 8 (I Sin[x])^8 Cos[x]^8 + 1 (I Sin[x])^5 Cos[x]^11 + 1 (I Sin[x])^11 Cos[x]^5) + Exp[-11 I y] (11 (I Sin[x])^5 Cos[x]^11 + 11 (I Sin[x])^11 Cos[x]^5 + 45 (I Sin[x])^7 Cos[x]^9 + 45 (I Sin[x])^9 Cos[x]^7 + 2 (I Sin[x])^4 Cos[x]^12 + 2 (I Sin[x])^12 Cos[x]^4 + 21 (I Sin[x])^6 Cos[x]^10 + 21 (I Sin[x])^10 Cos[x]^6 + 52 (I Sin[x])^8 Cos[x]^8) + Exp[-9 I y] (109 (I Sin[x])^6 Cos[x]^10 + 109 (I Sin[x])^10 Cos[x]^6 + 226 (I Sin[x])^8 Cos[x]^8 + 185 (I Sin[x])^7 Cos[x]^9 + 185 (I Sin[x])^9 Cos[x]^7 + 38 (I Sin[x])^5 Cos[x]^11 + 38 (I Sin[x])^11 Cos[x]^5 + 9 (I Sin[x])^4 Cos[x]^12 + 9 (I Sin[x])^12 Cos[x]^4 + 1 (I Sin[x])^3 Cos[x]^13 + 1 (I Sin[x])^13 Cos[x]^3) + Exp[-7 I y] (350 (I Sin[x])^6 Cos[x]^10 + 350 (I Sin[x])^10 Cos[x]^6 + 562 (I Sin[x])^8 Cos[x]^8 + 61 (I Sin[x])^4 Cos[x]^12 + 61 (I Sin[x])^12 Cos[x]^4 + 168 (I Sin[x])^5 Cos[x]^11 + 168 (I Sin[x])^11 Cos[x]^5 + 491 (I Sin[x])^7 Cos[x]^9 + 491 (I Sin[x])^9 Cos[x]^7 + 13 (I Sin[x])^3 Cos[x]^13 + 13 (I Sin[x])^13 Cos[x]^3 + 1 (I Sin[x])^2 Cos[x]^14 + 1 (I Sin[x])^14 Cos[x]^2) + Exp[-5 I y] (1108 (I Sin[x])^7 Cos[x]^9 + 1108 (I Sin[x])^9 Cos[x]^7 + 376 (I Sin[x])^11 Cos[x]^5 + 376 (I Sin[x])^5 Cos[x]^11 + 1256 (I Sin[x])^8 Cos[x]^8 + 730 (I Sin[x])^6 Cos[x]^10 + 730 (I Sin[x])^10 Cos[x]^6 + 130 (I Sin[x])^4 Cos[x]^12 + 130 (I Sin[x])^12 Cos[x]^4 + 28 (I Sin[x])^13 Cos[x]^3 + 28 (I Sin[x])^3 Cos[x]^13 + 3 (I Sin[x])^2 Cos[x]^14 + 3 (I Sin[x])^14 Cos[x]^2) + Exp[-3 I y] (1643 (I Sin[x])^7 Cos[x]^9 + 1643 (I Sin[x])^9 Cos[x]^7 + 748 (I Sin[x])^5 Cos[x]^11 + 748 (I Sin[x])^11 Cos[x]^5 + 354 (I Sin[x])^4 Cos[x]^12 + 354 (I Sin[x])^12 Cos[x]^4 + 1206 (I Sin[x])^6 Cos[x]^10 + 1206 (I Sin[x])^10 Cos[x]^6 + 1792 (I Sin[x])^8 Cos[x]^8 + 126 (I Sin[x])^3 Cos[x]^13 + 126 (I Sin[x])^13 Cos[x]^3 + 29 (I Sin[x])^2 Cos[x]^14 + 29 (I Sin[x])^14 Cos[x]^2 + 3 (I Sin[x])^1 Cos[x]^15 + 3 (I Sin[x])^15 Cos[x]^1) + Exp[-1 I y] (1603 (I Sin[x])^6 Cos[x]^10 + 1603 (I Sin[x])^10 Cos[x]^6 + 2652 (I Sin[x])^8 Cos[x]^8 + 2331 (I Sin[x])^7 Cos[x]^9 + 2331 (I Sin[x])^9 Cos[x]^7 + 792 (I Sin[x])^5 Cos[x]^11 + 792 (I Sin[x])^11 Cos[x]^5 + 294 (I Sin[x])^12 Cos[x]^4 + 294 (I Sin[x])^4 Cos[x]^12 + 76 (I Sin[x])^13 Cos[x]^3 + 76 (I Sin[x])^3 Cos[x]^13 + 12 (I Sin[x])^2 Cos[x]^14 + 12 (I Sin[x])^14 Cos[x]^2 + 1 (I Sin[x])^1 Cos[x]^15 + 1 (I Sin[x])^15 Cos[x]^1) + Exp[1 I y] (1579 (I Sin[x])^6 Cos[x]^10 + 1579 (I Sin[x])^10 Cos[x]^6 + 2314 (I Sin[x])^8 Cos[x]^8 + 454 (I Sin[x])^4 Cos[x]^12 + 454 (I Sin[x])^12 Cos[x]^4 + 946 (I Sin[x])^5 Cos[x]^11 + 946 (I Sin[x])^11 Cos[x]^5 + 2083 (I Sin[x])^7 Cos[x]^9 + 2083 (I Sin[x])^9 Cos[x]^7 + 162 (I Sin[x])^3 Cos[x]^13 + 162 (I Sin[x])^13 Cos[x]^3 + 44 (I Sin[x])^2 Cos[x]^14 + 44 (I Sin[x])^14 Cos[x]^2 + 9 (I Sin[x])^1 Cos[x]^15 + 9 (I Sin[x])^15 Cos[x]^1 + 1 Cos[x]^16 + 1 (I Sin[x])^16) + Exp[3 I y] (1864 (I Sin[x])^7 Cos[x]^9 + 1864 (I Sin[x])^9 Cos[x]^7 + 597 (I Sin[x])^11 Cos[x]^5 + 597 (I Sin[x])^5 Cos[x]^11 + 2156 (I Sin[x])^8 Cos[x]^8 + 1178 (I Sin[x])^6 Cos[x]^10 + 1178 (I Sin[x])^10 Cos[x]^6 + 218 (I Sin[x])^12 Cos[x]^4 + 218 (I Sin[x])^4 Cos[x]^12 + 58 (I Sin[x])^3 Cos[x]^13 + 58 (I Sin[x])^13 Cos[x]^3 + 11 (I Sin[x])^2 Cos[x]^14 + 11 (I Sin[x])^14 Cos[x]^2 + 1 (I Sin[x])^15 Cos[x]^1 + 1 (I Sin[x])^1 Cos[x]^15) + Exp[5 I y] (1009 (I Sin[x])^7 Cos[x]^9 + 1009 (I Sin[x])^9 Cos[x]^7 + 432 (I Sin[x])^11 Cos[x]^5 + 432 (I Sin[x])^5 Cos[x]^11 + 738 (I Sin[x])^6 Cos[x]^10 + 738 (I Sin[x])^10 Cos[x]^6 + 1088 (I Sin[x])^8 Cos[x]^8 + 192 (I Sin[x])^4 Cos[x]^12 + 192 (I Sin[x])^12 Cos[x]^4 + 69 (I Sin[x])^3 Cos[x]^13 + 69 (I Sin[x])^13 Cos[x]^3 + 17 (I Sin[x])^2 Cos[x]^14 + 17 (I Sin[x])^14 Cos[x]^2 + 2 (I Sin[x])^1 Cos[x]^15 + 2 (I Sin[x])^15 Cos[x]^1) + Exp[7 I y] (538 (I Sin[x])^8 Cos[x]^8 + 353 (I Sin[x])^10 Cos[x]^6 + 353 (I Sin[x])^6 Cos[x]^10 + 479 (I Sin[x])^7 Cos[x]^9 + 479 (I Sin[x])^9 Cos[x]^7 + 175 (I Sin[x])^5 Cos[x]^11 + 175 (I Sin[x])^11 Cos[x]^5 + 69 (I Sin[x])^4 Cos[x]^12 + 69 (I Sin[x])^12 Cos[x]^4 + 18 (I Sin[x])^3 Cos[x]^13 + 18 (I Sin[x])^13 Cos[x]^3 + 2 (I Sin[x])^14 Cos[x]^2 + 2 (I Sin[x])^2 Cos[x]^14) + Exp[9 I y] (104 (I Sin[x])^6 Cos[x]^10 + 104 (I Sin[x])^10 Cos[x]^6 + 194 (I Sin[x])^8 Cos[x]^8 + 29 (I Sin[x])^12 Cos[x]^4 + 29 (I Sin[x])^4 Cos[x]^12 + 157 (I Sin[x])^7 Cos[x]^9 + 157 (I Sin[x])^9 Cos[x]^7 + 59 (I Sin[x])^11 Cos[x]^5 + 59 (I Sin[x])^5 Cos[x]^11 + 8 (I Sin[x])^3 Cos[x]^13 + 8 (I Sin[x])^13 Cos[x]^3 + 1 (I Sin[x])^2 Cos[x]^14 + 1 (I Sin[x])^14 Cos[x]^2) + Exp[11 I y] (32 (I Sin[x])^9 Cos[x]^7 + 32 (I Sin[x])^7 Cos[x]^9 + 23 (I Sin[x])^11 Cos[x]^5 + 23 (I Sin[x])^5 Cos[x]^11 + 27 (I Sin[x])^6 Cos[x]^10 + 27 (I Sin[x])^10 Cos[x]^6 + 28 (I Sin[x])^8 Cos[x]^8 + 8 (I Sin[x])^4 Cos[x]^12 + 8 (I Sin[x])^12 Cos[x]^4 + 1 (I Sin[x])^13 Cos[x]^3 + 1 (I Sin[x])^3 Cos[x]^13) + Exp[13 I y] (2 (I Sin[x])^5 Cos[x]^11 + 2 (I Sin[x])^11 Cos[x]^5 + 6 (I Sin[x])^9 Cos[x]^7 + 6 (I Sin[x])^7 Cos[x]^9 + 4 (I Sin[x])^8 Cos[x]^8 + 5 (I Sin[x])^6 Cos[x]^10 + 5 (I Sin[x])^10 Cos[x]^6) + Exp[15 I y] (1 (I Sin[x])^10 Cos[x]^6 + 1 (I Sin[x])^6 Cos[x]^10))/Sqrt[2^nqubits];\n",
      "amplitude2[x_,y_] := (Exp[-15 I y] (1 (I Sin[x])^6 Cos[x]^10 + 1 (I Sin[x])^10 Cos[x]^6) + Exp[-13 I y] (7 (I Sin[x])^7 Cos[x]^9 + 7 (I Sin[x])^9 Cos[x]^7 + 3 (I Sin[x])^6 Cos[x]^10 + 3 (I Sin[x])^10 Cos[x]^6 + 8 (I Sin[x])^8 Cos[x]^8 + 1 (I Sin[x])^5 Cos[x]^11 + 1 (I Sin[x])^11 Cos[x]^5) + Exp[-11 I y] (11 (I Sin[x])^5 Cos[x]^11 + 11 (I Sin[x])^11 Cos[x]^5 + 45 (I Sin[x])^7 Cos[x]^9 + 45 (I Sin[x])^9 Cos[x]^7 + 2 (I Sin[x])^4 Cos[x]^12 + 2 (I Sin[x])^12 Cos[x]^4 + 21 (I Sin[x])^6 Cos[x]^10 + 21 (I Sin[x])^10 Cos[x]^6 + 52 (I Sin[x])^8 Cos[x]^8) + Exp[-9 I y] (109 (I Sin[x])^6 Cos[x]^10 + 109 (I Sin[x])^10 Cos[x]^6 + 226 (I Sin[x])^8 Cos[x]^8 + 185 (I Sin[x])^7 Cos[x]^9 + 185 (I Sin[x])^9 Cos[x]^7 + 38 (I Sin[x])^5 Cos[x]^11 + 38 (I Sin[x])^11 Cos[x]^5 + 9 (I Sin[x])^4 Cos[x]^12 + 9 (I Sin[x])^12 Cos[x]^4 + 1 (I Sin[x])^3 Cos[x]^13 + 1 (I Sin[x])^13 Cos[x]^3) + Exp[-7 I y] (350 (I Sin[x])^6 Cos[x]^10 + 350 (I Sin[x])^10 Cos[x]^6 + 562 (I Sin[x])^8 Cos[x]^8 + 61 (I Sin[x])^4 Cos[x]^12 + 61 (I Sin[x])^12 Cos[x]^4 + 168 (I Sin[x])^5 Cos[x]^11 + 168 (I Sin[x])^11 Cos[x]^5 + 491 (I Sin[x])^7 Cos[x]^9 + 491 (I Sin[x])^9 Cos[x]^7 + 13 (I Sin[x])^3 Cos[x]^13 + 13 (I Sin[x])^13 Cos[x]^3 + 1 (I Sin[x])^2 Cos[x]^14 + 1 (I Sin[x])^14 Cos[x]^2) + Exp[-5 I y] (1108 (I Sin[x])^7 Cos[x]^9 + 1108 (I Sin[x])^9 Cos[x]^7 + 376 (I Sin[x])^11 Cos[x]^5 + 376 (I Sin[x])^5 Cos[x]^11 + 1256 (I Sin[x])^8 Cos[x]^8 + 730 (I Sin[x])^6 Cos[x]^10 + 730 (I Sin[x])^10 Cos[x]^6 + 130 (I Sin[x])^4 Cos[x]^12 + 130 (I Sin[x])^12 Cos[x]^4 + 28 (I Sin[x])^13 Cos[x]^3 + 28 (I Sin[x])^3 Cos[x]^13 + 3 (I Sin[x])^2 Cos[x]^14 + 3 (I Sin[x])^14 Cos[x]^2) + Exp[-3 I y] (1643 (I Sin[x])^7 Cos[x]^9 + 1643 (I Sin[x])^9 Cos[x]^7 + 748 (I Sin[x])^5 Cos[x]^11 + 748 (I Sin[x])^11 Cos[x]^5 + 354 (I Sin[x])^4 Cos[x]^12 + 354 (I Sin[x])^12 Cos[x]^4 + 1206 (I Sin[x])^6 Cos[x]^10 + 1206 (I Sin[x])^10 Cos[x]^6 + 1792 (I Sin[x])^8 Cos[x]^8 + 126 (I Sin[x])^3 Cos[x]^13 + 126 (I Sin[x])^13 Cos[x]^3 + 29 (I Sin[x])^2 Cos[x]^14 + 29 (I Sin[x])^14 Cos[x]^2 + 3 (I Sin[x])^1 Cos[x]^15 + 3 (I Sin[x])^15 Cos[x]^1) + Exp[-1 I y] (1603 (I Sin[x])^6 Cos[x]^10 + 1603 (I Sin[x])^10 Cos[x]^6 + 2652 (I Sin[x])^8 Cos[x]^8 + 2331 (I Sin[x])^7 Cos[x]^9 + 2331 (I Sin[x])^9 Cos[x]^7 + 792 (I Sin[x])^5 Cos[x]^11 + 792 (I Sin[x])^11 Cos[x]^5 + 294 (I Sin[x])^12 Cos[x]^4 + 294 (I Sin[x])^4 Cos[x]^12 + 76 (I Sin[x])^13 Cos[x]^3 + 76 (I Sin[x])^3 Cos[x]^13 + 12 (I Sin[x])^2 Cos[x]^14 + 12 (I Sin[x])^14 Cos[x]^2 + 1 (I Sin[x])^1 Cos[x]^15 + 1 (I Sin[x])^15 Cos[x]^1) + Exp[1 I y] (1579 (I Sin[x])^6 Cos[x]^10 + 1579 (I Sin[x])^10 Cos[x]^6 + 2314 (I Sin[x])^8 Cos[x]^8 + 454 (I Sin[x])^4 Cos[x]^12 + 454 (I Sin[x])^12 Cos[x]^4 + 946 (I Sin[x])^5 Cos[x]^11 + 946 (I Sin[x])^11 Cos[x]^5 + 2083 (I Sin[x])^7 Cos[x]^9 + 2083 (I Sin[x])^9 Cos[x]^7 + 162 (I Sin[x])^3 Cos[x]^13 + 162 (I Sin[x])^13 Cos[x]^3 + 44 (I Sin[x])^2 Cos[x]^14 + 44 (I Sin[x])^14 Cos[x]^2 + 9 (I Sin[x])^1 Cos[x]^15 + 9 (I Sin[x])^15 Cos[x]^1 + 1 Cos[x]^16 + 1 (I Sin[x])^16) + Exp[3 I y] (1864 (I Sin[x])^7 Cos[x]^9 + 1864 (I Sin[x])^9 Cos[x]^7 + 597 (I Sin[x])^11 Cos[x]^5 + 597 (I Sin[x])^5 Cos[x]^11 + 2156 (I Sin[x])^8 Cos[x]^8 + 1178 (I Sin[x])^6 Cos[x]^10 + 1178 (I Sin[x])^10 Cos[x]^6 + 218 (I Sin[x])^12 Cos[x]^4 + 218 (I Sin[x])^4 Cos[x]^12 + 58 (I Sin[x])^3 Cos[x]^13 + 58 (I Sin[x])^13 Cos[x]^3 + 11 (I Sin[x])^2 Cos[x]^14 + 11 (I Sin[x])^14 Cos[x]^2 + 1 (I Sin[x])^15 Cos[x]^1 + 1 (I Sin[x])^1 Cos[x]^15) + Exp[5 I y] (1009 (I Sin[x])^7 Cos[x]^9 + 1009 (I Sin[x])^9 Cos[x]^7 + 432 (I Sin[x])^11 Cos[x]^5 + 432 (I Sin[x])^5 Cos[x]^11 + 738 (I Sin[x])^6 Cos[x]^10 + 738 (I Sin[x])^10 Cos[x]^6 + 1088 (I Sin[x])^8 Cos[x]^8 + 192 (I Sin[x])^4 Cos[x]^12 + 192 (I Sin[x])^12 Cos[x]^4 + 69 (I Sin[x])^3 Cos[x]^13 + 69 (I Sin[x])^13 Cos[x]^3 + 17 (I Sin[x])^2 Cos[x]^14 + 17 (I Sin[x])^14 Cos[x]^2 + 2 (I Sin[x])^1 Cos[x]^15 + 2 (I Sin[x])^15 Cos[x]^1) + Exp[7 I y] (538 (I Sin[x])^8 Cos[x]^8 + 353 (I Sin[x])^10 Cos[x]^6 + 353 (I Sin[x])^6 Cos[x]^10 + 479 (I Sin[x])^7 Cos[x]^9 + 479 (I Sin[x])^9 Cos[x]^7 + 175 (I Sin[x])^5 Cos[x]^11 + 175 (I Sin[x])^11 Cos[x]^5 + 69 (I Sin[x])^4 Cos[x]^12 + 69 (I Sin[x])^12 Cos[x]^4 + 18 (I Sin[x])^3 Cos[x]^13 + 18 (I Sin[x])^13 Cos[x]^3 + 2 (I Sin[x])^14 Cos[x]^2 + 2 (I Sin[x])^2 Cos[x]^14) + Exp[9 I y] (104 (I Sin[x])^6 Cos[x]^10 + 104 (I Sin[x])^10 Cos[x]^6 + 194 (I Sin[x])^8 Cos[x]^8 + 29 (I Sin[x])^12 Cos[x]^4 + 29 (I Sin[x])^4 Cos[x]^12 + 157 (I Sin[x])^7 Cos[x]^9 + 157 (I Sin[x])^9 Cos[x]^7 + 59 (I Sin[x])^11 Cos[x]^5 + 59 (I Sin[x])^5 Cos[x]^11 + 8 (I Sin[x])^3 Cos[x]^13 + 8 (I Sin[x])^13 Cos[x]^3 + 1 (I Sin[x])^2 Cos[x]^14 + 1 (I Sin[x])^14 Cos[x]^2) + Exp[11 I y] (32 (I Sin[x])^9 Cos[x]^7 + 32 (I Sin[x])^7 Cos[x]^9 + 23 (I Sin[x])^11 Cos[x]^5 + 23 (I Sin[x])^5 Cos[x]^11 + 27 (I Sin[x])^6 Cos[x]^10 + 27 (I Sin[x])^10 Cos[x]^6 + 28 (I Sin[x])^8 Cos[x]^8 + 8 (I Sin[x])^4 Cos[x]^12 + 8 (I Sin[x])^12 Cos[x]^4 + 1 (I Sin[x])^13 Cos[x]^3 + 1 (I Sin[x])^3 Cos[x]^13) + Exp[13 I y] (2 (I Sin[x])^5 Cos[x]^11 + 2 (I Sin[x])^11 Cos[x]^5 + 6 (I Sin[x])^9 Cos[x]^7 + 6 (I Sin[x])^7 Cos[x]^9 + 4 (I Sin[x])^8 Cos[x]^8 + 5 (I Sin[x])^6 Cos[x]^10 + 5 (I Sin[x])^10 Cos[x]^6) + Exp[15 I y] (1 (I Sin[x])^10 Cos[x]^6 + 1 (I Sin[x])^6 Cos[x]^10));\n",
      "probability[x_, y_] := Abs[amplitude[x, y]]^2;\n",
      "\n",
      "result = NMaximize[{nstates*probability[a, b], 0 < a < Pi/2, 0 < b < Pi}, {a, b}, Method -> {\"SimulatedAnnealing\", \"PerturbationScale\" -> 15}];\n",
      "Print[name,  \": \", result]\n",
      "\n",
      "f = probability[c, d]; n = Pi;\n",
      "Plot3D[f, {c, 0, n/2}, {d, -n, n}, PlotRange -> All]\n",
      "ContourPlot[probability[x, y], {x, 0, n/2}, {y, 0, n}, PlotLegends -> Automatic, Contours -> 30]\n",
      "\n"
     ]
    }
   ],
   "source": [
    "i += 1\n",
    "text = ds[i]\n",
    "print(i)\n",
    "print(text[\"max_stars_repo_name\"])\n",
    "print(text[\"max_stars_repo_path\"] + \"\\n\" + \"#\"*40 + \"\\n\")\n",
    "print(text[\"content\"])"
   ]
  },
  {
   "cell_type": "code",
   "execution_count": 576,
   "id": "651fe31f",
   "metadata": {},
   "outputs": [
    {
     "name": "stdout",
     "output_type": "stream",
     "text": [
      "ClathomasPrime/CompetitiveStableMatching\n",
      "Plotting/plots.sage\n",
      "# λ > [ (u,v) | (u, s) <- M.toList cov, v <- S.toList s ]\n",
      "lattice = [(0,1),(0,2),(0,3),(0,4),(1,5),(1,6),(1,7),(2,5),(2,8),(2,9),(3,6),(3,8),(3,10),(4,7),(4,9),(4,10),(5,11),(5,12),(5,13),(5,14),(6,13),(6,15),(7,14),(7,15),(8,13),(8,16),(9,14),(9,16),(10,15),(10,16),(10,17),(10,18),(11,19),(11,20),(11,21),(12,19),(12,22),(12,23),(13,20),(13,22),(13,24),(14,21),(14,23),(14,24),(15,24),(15,25),(15,26),(16,24),(16,27),(16,28),(17,25),(17,27),(17,29),(18,26),(18,28),(18,29),(19,30),(19,31),(19,32),(19,33),(20,32),(20,34),(21,33),(21,34),(22,32),(22,35),(23,33),(23,35),(24,34),(24,35),(24,36),(24,37),(25,36),(25,38),(26,37),(26,38),(27,36),(27,39),(28,37),(28,39),(29,38),(29,39),(29,40),(29,41),(30,42),(30,43),(30,44),(31,43),(31,45),(31,46),(32,44),(32,45),(32,47),(33,42),(33,46),(33,47),(34,47),(34,48),(34,49),(35,47),(35,50),(35,51),(36,48),(36,50),(36,52),(37,49),(37,51),(37,52),(38,52),(38,53),(38,54),(39,52),(39,55),(39,56),(40,53),(40,55),(40,57),(41,54),(41,56),(41,57),(42,58),(42,59),(43,59),(43,60),(44,58),(44,60),(45,60),(45,61),(46,59),(46,61),(47,58),(47,61),(47,62),(47,63),(48,62),(48,64),(49,63),(49,64),(50,62),(50,65),(51,63),(51,65),(52,64),(52,65),(52,66),(52,67),(53,66),(53,68),(54,67),(54,68),(55,66),(55,69),(56,67),(56,69),(57,68),(57,69),(58,70),(58,71),(58,72),(59,72),(60,72),(61,72),(61,73),(61,74),(62,70),(62,74),(62,75),(63,71),(63,73),(63,75),(64,75),(64,76),(64,77),(65,75),(65,78),(65,79),(66,76),(66,78),(66,80),(67,77),(67,79),(67,80),(68,80),(69,80),(70,81),(70,82),(71,81),(71,83),(72,82),(72,83),(73,83),(73,84),(74,82),(74,84),(75,81),(75,84),(75,85),(75,86),(76,85),(76,87),(77,86),(77,87),(78,85),(78,88),(79,86),(79,88),(80,87),(80,88),(81,89),(81,90),(81,91),(82,90),(83,90),(84,90),(84,92),(84,93),(85,91),(85,92),(85,94),(86,89),(86,93),(86,94),(87,94),(88,94),(89,95),(89,96),(89,97),(89,98),(90,97),(90,99),(91,98),(91,99),(92,99),(92,100),(92,101),(92,102),(93,97),(93,102),(94,98),(94,102),(95,103),(95,104),(95,105),(96,103),(96,106),(96,107),(97,104),(97,106),(97,108),(98,105),(98,107),(98,108),(99,108),(99,109),(99,110),(100,109),(100,111),(100,112),(101,110),(101,111),(101,113),(102,108),(102,112),(102,113),(103,114),(103,115),(103,116),(103,117),(104,115),(104,118),(105,116),(105,118),(106,115),(106,119),(107,116),(107,119),(108,118),(108,119),(108,120),(108,121),(109,120),(109,122),(110,121),(110,122),(111,122),(111,123),(111,124),(111,125),(112,120),(112,125),(113,121),(113,125),(114,126),(114,127),(114,128),(115,126),(115,129),(115,130),(116,127),(116,129),(116,131),(117,128),(117,130),(117,131),(118,129),(118,132),(118,133),(119,129),(119,134),(119,135),(120,132),(120,134),(120,136),(121,133),(121,135),(121,136),(122,136),(122,137),(122,138),(123,137),(123,139),(123,140),(124,138),(124,139),(124,141),(125,136),(125,140),(125,141),(126,142),(126,143),(127,142),(127,144),(128,143),(128,144),(129,142),(129,145),(129,146),(129,147),(130,143),(130,147),(131,144),(131,147),(132,145),(132,148),(133,146),(133,148),(134,145),(134,149),(135,146),(135,149),(136,148),(136,149),(136,150),(136,151),(137,150),(137,152),(138,151),(138,152),(139,152),(139,153),(140,150),(140,153),(141,151),(141,153),(142,154),(142,155),(142,156),(143,156),(144,156),(145,155),(145,157),(145,158),(146,154),(146,157),(146,159),(147,156),(147,158),(147,159),(148,157),(148,160),(148,161),(149,157),(149,162),(149,163),(150,160),(150,162),(150,164),(151,161),(151,163),(151,164),(152,164),(153,164),(154,165),(154,166),(155,165),(155,167),(156,166),(156,167),(157,165),(157,168),(157,169),(157,170),(158,167),(158,170),(159,166),(159,170),(160,168),(160,171),(161,169),(161,171),(162,168),(162,172),(163,169),(163,172),(164,171),(164,172),(165,173),(165,174),(165,175),(166,175),(167,175),(168,173),(168,176),(168,177),(169,174),(169,176),(169,178),(170,175),(170,177),(170,178),(171,176),(172,176),(173,179),(173,180),(173,181),(173,182),(174,181),(174,183),(175,182),(175,183),(176,181),(176,184),(177,182),(177,184),(178,183),(178,184),(178,185),(178,186),(179,187),(179,188),(179,189),(180,187),(180,190),(180,191),(181,188),(181,190),(181,192),(182,189),(182,191),(182,192),(183,192),(183,193),(183,194),(184,192),(184,195),(184,196),(185,193),(185,195),(185,197),(186,194),(186,196),(186,197),(187,198),(187,199),(187,200),(187,201),(188,200),(188,202),(189,201),(189,202),(190,200),(190,203),(191,201),(191,203),(192,202),(192,203),(192,204),(192,205),(193,204),(193,206),(194,205),(194,206),(195,204),(195,207),(196,205),(196,207),(197,206),(197,207),(197,208),(197,209),(198,210),(198,211),(198,212),(199,210),(199,213),(199,214),(200,211),(200,213),(200,215),(201,212),(201,214),(201,215),(202,215),(202,216),(202,217),(203,215),(203,218),(203,219),(204,216),(204,218),(204,220),(205,217),(205,219),(205,220),(206,220),(206,221),(206,222),(207,220),(207,223),(207,224),(208,221),(208,223),(208,225),(209,222),(209,224),(209,225),(210,226),(210,227),(211,226),(211,228),(212,227),(212,228),(213,226),(213,229),(214,227),(214,229),(215,228),(215,229),(215,230),(215,231),(216,230),(216,232),(217,231),(217,232),(218,230),(218,233),(219,231),(219,233),(220,232),(220,233),(220,234),(220,235),(221,234),(221,236),(222,235),(222,236),(223,234),(223,237),(224,235),(224,237),(225,236),(225,237),(226,238),(227,238),(228,238),(228,239),(228,240),(229,238),(229,241),(229,242),(230,239),(230,241),(230,243),(231,240),(231,242),(231,243),(232,243),(232,244),(232,245),(233,243),(233,246),(233,247),(234,244),(234,246),(234,248),(235,245),(235,247),(235,248),(236,248),(237,248),(238,249),(238,250),(239,249),(239,251),(240,250),(240,251),(241,249),(241,252),(242,250),(242,252),(243,251),(243,252),(243,253),(243,254),(244,253),(244,255),(245,254),(245,255),(246,253),(246,256),(247,254),(247,256),(248,255),(248,256),(249,257),(250,257),(251,257),(251,258),(251,259),(252,257),(252,260),(252,261),(253,258),(253,260),(253,262),(254,259),(254,261),(254,262),(255,262),(256,262),(257,263),(257,264),(258,263),(258,265),(259,264),(259,265),(260,263),(260,266),(261,264),(261,266),(262,265),(262,266),(263,267),(264,267),(265,267),(266,267)]\n",
      "\n"
     ]
    }
   ],
   "source": [
    "j = 84\n",
    "print(ds[j][\"max_stars_repo_name\"])\n",
    "print(ds[j][\"max_stars_repo_path\"])\n",
    "print(ds[j][\"content\"])"
   ]
  },
  {
   "cell_type": "code",
   "execution_count": 101,
   "id": "ff35533a",
   "metadata": {},
   "outputs": [
    {
     "data": {
      "text/plain": [
       "False"
      ]
     },
     "execution_count": 101,
     "metadata": {},
     "output_type": "execute_result"
    }
   ],
   "source": [
    "bool(matlab_filter(ds[2]))"
   ]
  },
  {
   "cell_type": "code",
   "execution_count": null,
   "id": "f154f8c4",
   "metadata": {},
   "outputs": [],
   "source": []
  }
 ],
 "metadata": {
  "kernelspec": {
   "display_name": "Python 3",
   "language": "python",
   "name": "python3"
  },
  "language_info": {
   "codemirror_mode": {
    "name": "ipython",
    "version": 3
   },
   "file_extension": ".py",
   "mimetype": "text/x-python",
   "name": "python",
   "nbconvert_exporter": "python",
   "pygments_lexer": "ipython3",
   "version": "3.10.4"
  }
 },
 "nbformat": 4,
 "nbformat_minor": 5
}
