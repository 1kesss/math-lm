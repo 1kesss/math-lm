{
 "cells": [
  {
   "cell_type": "code",
   "execution_count": 1,
   "id": "4d946c3f",
   "metadata": {},
   "outputs": [],
   "source": [
    "import ndjson\n",
    "import os\n",
    "import json\n",
    "import random\n",
    "import math\n",
    "import re\n",
    "from functools import partial\n",
    "from tqdm import tqdm\n",
    "import matplotlib.pyplot as plt"
   ]
  },
  {
   "cell_type": "markdown",
   "id": "1fbcf711",
   "metadata": {},
   "source": [
    "## Defining generic data analysis utilities"
   ]
  },
  {
   "cell_type": "code",
   "execution_count": 19,
   "id": "74955f94",
   "metadata": {},
   "outputs": [],
   "source": [
    "def numerical_density(ex):\n",
    "    # The ratio of digit characters over non-digit characters in the file\n",
    "    txt = ''.join(ex[\"text\"].split())\n",
    "    ntoks = sum(txt.count(c) for c in \"0123456789\")\n",
    "    return ntoks / max(len(txt), 1)\n",
    "\n",
    "def alphabetic_density(ex): \n",
    "    txt = ''.join(ex[\"text\"].split())\n",
    "    nalpha = len([x for x in txt if x.isalpha()])\n",
    "    return nalpha/max(len(txt), 1)\n",
    "\n",
    "def print_ex(example): \n",
    "    text = example[\"text\"]\n",
    "    if \"source\" in example[\"meta\"]: \n",
    "        print(example[\"meta\"][\"source\"])\n",
    "    if \"commit_subject\" in example[\"meta\"]: \n",
    "        print(\"Github Diffs\")\n",
    "    print(f\"numeric density: {numerical_density(example)}\")\n",
    "    print(f\"alphabetic density: {alphabetic_density(example)}\")\n",
    "    print(f\"length (bytes): {len(text.encode('utf-8'))}\")\n",
    "    if \"max_stars_repo_name\" in example[\"meta\"]:\n",
    "        print(example[\"meta\"][\"max_stars_repo_name\"])\n",
    "    if \"max_stars_repo_path\" in example[\"meta\"]:\n",
    "        print(example[\"meta\"][\"max_stars_repo_path\"]) \n",
    "    if \"repo_name_with_owner\" in example[\"meta\"]:\n",
    "        print(example[\"meta\"][\"repo_name_with_owner\"])\n",
    "    if \"repo_name\" in example[\"meta\"]: \n",
    "        print(example[\"meta\"][\"repo_name\"])\n",
    "    \n",
    "    print(\"#\"*40 + \"\\n\")\n",
    "    print(text)"
   ]
  },
  {
   "cell_type": "code",
   "execution_count": 20,
   "id": "fb1c0d01",
   "metadata": {},
   "outputs": [],
   "source": [
    "import ipywidgets as widgets\n",
    "from IPython.display import display, clear_output\n",
    "\n",
    "def data_viewer(your_list):\n",
    "    # Create the slider\n",
    "    slider = widgets.IntSlider(min=0, max=len(your_list)-1, step=1, description='Index:')\n",
    "\n",
    "    # Create buttons\n",
    "    next_button = widgets.Button(description=\"Next\")\n",
    "    previous_button = widgets.Button(description=\"Previous\")\n",
    "\n",
    "    # Define button click events\n",
    "    def next_element(b):\n",
    "        slider.value = min(slider.value + 1, len(your_list) - 1)\n",
    "\n",
    "    def previous_element(b):\n",
    "        slider.value = max(slider.value - 1, 0)\n",
    "\n",
    "    # Assign button click events\n",
    "    next_button.on_click(next_element)\n",
    "    previous_button.on_click(previous_element)\n",
    "\n",
    "    # Create the output widget\n",
    "    output = widgets.Output()\n",
    "\n",
    "    # Event handler for updating text widget when slider changes\n",
    "    def update_text(change):\n",
    "        with output:\n",
    "            clear_output(wait=True)\n",
    "            print_ex(your_list[slider.value])\n",
    "\n",
    "    # Listen to the slider value change\n",
    "    slider.observe(update_text, 'value')\n",
    "\n",
    "    # Layout\n",
    "    ui = widgets.VBox([slider, next_button, previous_button, output])\n",
    "\n",
    "    # Initialize text\n",
    "    with output:\n",
    "        print_ex(your_list[slider.value])\n",
    "\n",
    "    # Display the widgets\n",
    "    display(ui)"
   ]
  },
  {
   "cell_type": "markdown",
   "id": "46b12a53",
   "metadata": {},
   "source": [
    "# ArXiv"
   ]
  },
  {
   "cell_type": "code",
   "execution_count": 7,
   "id": "d317c84d",
   "metadata": {},
   "outputs": [],
   "source": [
    "shard = \"00\"\n",
    "\n",
    "with open(f\"arXiv/data_jsonl/train/arXiv_{shard}.jsonl\") as f:\n",
    "    ds = ndjson.load(f)"
   ]
  },
  {
   "cell_type": "markdown",
   "id": "6b4d3903",
   "metadata": {},
   "source": [
    "### Random sample analysis"
   ]
  },
  {
   "cell_type": "code",
   "execution_count": 21,
   "id": "837e3832",
   "metadata": {},
   "outputs": [
    {
     "data": {
      "application/vnd.jupyter.widget-view+json": {
       "model_id": "dd8c40f009854fbfa8bb2f3f3d4e2861",
       "version_major": 2,
       "version_minor": 0
      },
      "text/plain": [
       "VBox(children=(IntSlider(value=0, description='Index:', max=99999), Button(description='Next', style=ButtonSty…"
      ]
     },
     "metadata": {},
     "output_type": "display_data"
    }
   ],
   "source": [
    "shuffle_ds = ds\n",
    "random.shuffle(shuffle_ds)\n",
    "data_viewer(shuffle_ds)"
   ]
  },
  {
   "cell_type": "markdown",
   "id": "082d2874",
   "metadata": {},
   "source": [
    "### Length analysis"
   ]
  },
  {
   "cell_type": "code",
   "execution_count": 22,
   "id": "e603a76b",
   "metadata": {},
   "outputs": [
    {
     "data": {
      "application/vnd.jupyter.widget-view+json": {
       "model_id": "4f6d594e408b42b69429f57180174390",
       "version_major": 2,
       "version_minor": 0
      },
      "text/plain": [
       "VBox(children=(IntSlider(value=0, description='Index:', max=99999), Button(description='Next', style=ButtonSty…"
      ]
     },
     "metadata": {},
     "output_type": "display_data"
    }
   ],
   "source": [
    "length_ds = sorted(ds, key= lambda x: len(x[\"text\"]))\n",
    "data_viewer(length_ds)"
   ]
  },
  {
   "cell_type": "markdown",
   "id": "de70288c",
   "metadata": {},
   "source": [
    "### Numerical density analysis"
   ]
  },
  {
   "cell_type": "code",
   "execution_count": 23,
   "id": "65b68dfb",
   "metadata": {},
   "outputs": [
    {
     "data": {
      "application/vnd.jupyter.widget-view+json": {
       "model_id": "1dbdd491a8b14d6b9282a3c6e88c850a",
       "version_major": 2,
       "version_minor": 0
      },
      "text/plain": [
       "VBox(children=(IntSlider(value=0, description='Index:', max=99999), Button(description='Next', style=ButtonSty…"
      ]
     },
     "metadata": {},
     "output_type": "display_data"
    }
   ],
   "source": [
    "num_ds = sorted(ds, key= lambda x: numerical_density(x))\n",
    "data_viewer(num_ds)"
   ]
  },
  {
   "cell_type": "markdown",
   "id": "318021ac",
   "metadata": {},
   "source": [
    "# The Stack Code"
   ]
  },
  {
   "cell_type": "markdown",
   "id": "67bb9ddb",
   "metadata": {},
   "source": [
    "## Full Dataset Statistics"
   ]
  },
  {
   "cell_type": "code",
   "execution_count": null,
   "id": "bbd1a41b",
   "metadata": {},
   "outputs": [],
   "source": [
    "cumsize = 0\n",
    "cumtokens = 0\n",
    "with open(\"source_code/stack-code/stats.json\") as f: \n",
    "    stats = json.load(f)\n",
    "    \n",
    "for key in stats:\n",
    "    print(key.upper())\n",
    "    tokens = stats[key][\"tokens\"]/10**9\n",
    "    cumtokens += tokens\n",
    "    print(f\"tokens: {tokens:.4f} B\")\n",
    "    size = stats[key][\"size\"]/10**9\n",
    "    cumsize += size\n",
    "    print(f\"size: {size:.4f} GB\\n\")\n",
    "\n",
    "print(\"CUMULATIVE:\")\n",
    "print(f\"tokens: {cumtokens:.4f} B\")\n",
    "print(f\"size: {cumsize:.4f} GB\\n\")"
   ]
  },
  {
   "cell_type": "code",
   "execution_count": null,
   "id": "e52e126f",
   "metadata": {},
   "outputs": [],
   "source": [
    "pairs = [(key.title(), stats[key][\"tokens\"]) for key in stats]\n",
    "\n",
    "pairs = sorted(pairs, key = lambda x: -x[1])\n",
    "\n",
    "plt.bar([x[0] for x in pairs], [x[1] for x in pairs])\n",
    "plt.ylabel('Tokens')\n",
    "#plt.yscale('log')\n",
    "plt.xticks(rotation=-90)\n",
    "plt.show()"
   ]
  },
  {
   "cell_type": "markdown",
   "id": "3f112af5",
   "metadata": {},
   "source": [
    "## Per-language analysis\n",
    "Workflow for manually inspecting the quality of samples in a particular language. \n",
    "\n",
    "The stack has a ton of data quality issues so this is important\n",
    "\n",
    "**Use the cell below to select language and shard**"
   ]
  },
  {
   "cell_type": "code",
   "execution_count": null,
   "id": "d6f2598c",
   "metadata": {},
   "outputs": [],
   "source": [
    "!ls source_code/stack-code/train\n",
    "lang = \"agda\"\n",
    "shard = \"0000\"\n",
    "print(f\"selected {lang}{shard}\")"
   ]
  },
  {
   "cell_type": "code",
   "execution_count": null,
   "id": "dddc7dde",
   "metadata": {},
   "outputs": [],
   "source": [
    "with open(f\"source_code/stack-code/train/{lang}{shard}.jsonl\") as f: \n",
    "    ds = ndjson.load(f)\n",
    "\n",
    "print(\"len: \", len(ds))"
   ]
  },
  {
   "cell_type": "markdown",
   "id": "94b7b04b",
   "metadata": {},
   "source": [
    "### Random Sample Analysis"
   ]
  },
  {
   "cell_type": "code",
   "execution_count": null,
   "id": "85d7e66e",
   "metadata": {},
   "outputs": [],
   "source": [
    "shuffle_ds = ds\n",
    "random.shuffle(shuffle_ds)\n",
    "data_viewer(shuffle_ds)"
   ]
  },
  {
   "cell_type": "markdown",
   "id": "2759ad8a",
   "metadata": {},
   "source": [
    "### Length analysis"
   ]
  },
  {
   "cell_type": "code",
   "execution_count": null,
   "id": "f61c4ee6",
   "metadata": {},
   "outputs": [],
   "source": [
    "length_ds = sorted(ds, key= lambda x: len(x[\"text\"]))\n",
    "data_viewer(length_ds)"
   ]
  },
  {
   "cell_type": "markdown",
   "id": "00ee3010",
   "metadata": {},
   "source": [
    "### Numerical density analysis"
   ]
  },
  {
   "cell_type": "code",
   "execution_count": null,
   "id": "de1cc344",
   "metadata": {},
   "outputs": [],
   "source": [
    "num_ds = sorted(ds, key= lambda x: numerical_density(x))\n",
    "data_viewer(num_ds)"
   ]
  },
  {
   "cell_type": "markdown",
   "id": "f7e52860",
   "metadata": {},
   "source": [
    "### Alphabetic density analysis"
   ]
  },
  {
   "cell_type": "code",
   "execution_count": null,
   "id": "d5c1998a",
   "metadata": {},
   "outputs": [],
   "source": [
    "alpha_ds = sorted(ds, key= lambda x: alphabetic_density(x))\n",
    "data_viewer(alpha_ds)"
   ]
  },
  {
   "cell_type": "markdown",
   "id": "43209a42",
   "metadata": {},
   "source": [
    "# Issues and Diffs"
   ]
  },
  {
   "cell_type": "code",
   "execution_count": null,
   "id": "d60264de",
   "metadata": {},
   "outputs": [],
   "source": [
    "with open(\"issues_diffs/data_jsonl/train/issues_diffs.jsonl\") as f:\n",
    "    ds = ndjson.load(f)"
   ]
  },
  {
   "cell_type": "markdown",
   "id": "ac7fe8fb",
   "metadata": {},
   "source": [
    "### Random sample analysis"
   ]
  },
  {
   "cell_type": "code",
   "execution_count": null,
   "id": "f6af83f1",
   "metadata": {},
   "outputs": [],
   "source": [
    "shuffle_ds = ds\n",
    "random.shuffle(shuffle_ds)\n",
    "data_viewer(shuffle_ds)"
   ]
  },
  {
   "cell_type": "markdown",
   "id": "24e79c60",
   "metadata": {},
   "source": [
    "### Length analysis\n"
   ]
  },
  {
   "cell_type": "code",
   "execution_count": null,
   "id": "8ba4effb",
   "metadata": {},
   "outputs": [],
   "source": [
    "length_ds = sorted(ds, key= lambda x: len(x[\"text\"]))\n",
    "data_viewer(length_ds)"
   ]
  },
  {
   "cell_type": "markdown",
   "id": "755487cb",
   "metadata": {},
   "source": [
    "### Numerical density analysis"
   ]
  },
  {
   "cell_type": "code",
   "execution_count": null,
   "id": "eda387ec",
   "metadata": {},
   "outputs": [],
   "source": [
    "num_ds = sorted(ds, key= lambda x: numerical_density(x))\n",
    "data_viewer(num_ds)"
   ]
  }
 ],
 "metadata": {
  "kernelspec": {
   "display_name": "Python 3 (ipykernel)",
   "language": "python",
   "name": "python3"
  },
  "language_info": {
   "codemirror_mode": {
    "name": "ipython",
    "version": 3
   },
   "file_extension": ".py",
   "mimetype": "text/x-python",
   "name": "python",
   "nbconvert_exporter": "python",
   "pygments_lexer": "ipython3",
   "version": "3.10.10"
  }
 },
 "nbformat": 4,
 "nbformat_minor": 5
}
